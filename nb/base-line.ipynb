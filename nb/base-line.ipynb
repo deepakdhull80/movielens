{
 "cells": [
  {
   "cell_type": "code",
   "execution_count": 1,
   "id": "287ac952-8d27-4006-96d0-c30cea58496e",
   "metadata": {},
   "outputs": [],
   "source": [
    "import pandas as pd\n",
    "import numpy as np\n",
    "\n",
    "import torch\n",
    "import torch.nn as nn\n",
    "import torch.nn.functional as F"
   ]
  },
  {
   "cell_type": "code",
   "execution_count": 2,
   "id": "784e06df-cf42-4cb9-8c26-ce551b7dd163",
   "metadata": {},
   "outputs": [
    {
     "data": {
      "text/html": [
       "<div>\n",
       "<style scoped>\n",
       "    .dataframe tbody tr th:only-of-type {\n",
       "        vertical-align: middle;\n",
       "    }\n",
       "\n",
       "    .dataframe tbody tr th {\n",
       "        vertical-align: top;\n",
       "    }\n",
       "\n",
       "    .dataframe thead th {\n",
       "        text-align: right;\n",
       "    }\n",
       "</style>\n",
       "<table border=\"1\" class=\"dataframe\">\n",
       "  <thead>\n",
       "    <tr style=\"text-align: right;\">\n",
       "      <th></th>\n",
       "      <th>userId</th>\n",
       "      <th>movieId</th>\n",
       "      <th>rating</th>\n",
       "      <th>timestamp</th>\n",
       "    </tr>\n",
       "  </thead>\n",
       "  <tbody>\n",
       "    <tr>\n",
       "      <th>0</th>\n",
       "      <td>1</td>\n",
       "      <td>296</td>\n",
       "      <td>5.0</td>\n",
       "      <td>1147880044</td>\n",
       "    </tr>\n",
       "    <tr>\n",
       "      <th>1</th>\n",
       "      <td>1</td>\n",
       "      <td>306</td>\n",
       "      <td>3.5</td>\n",
       "      <td>1147868817</td>\n",
       "    </tr>\n",
       "    <tr>\n",
       "      <th>2</th>\n",
       "      <td>1</td>\n",
       "      <td>307</td>\n",
       "      <td>5.0</td>\n",
       "      <td>1147868828</td>\n",
       "    </tr>\n",
       "    <tr>\n",
       "      <th>3</th>\n",
       "      <td>1</td>\n",
       "      <td>665</td>\n",
       "      <td>5.0</td>\n",
       "      <td>1147878820</td>\n",
       "    </tr>\n",
       "    <tr>\n",
       "      <th>4</th>\n",
       "      <td>1</td>\n",
       "      <td>899</td>\n",
       "      <td>3.5</td>\n",
       "      <td>1147868510</td>\n",
       "    </tr>\n",
       "  </tbody>\n",
       "</table>\n",
       "</div>"
      ],
      "text/plain": [
       "   userId  movieId  rating   timestamp\n",
       "0       1      296     5.0  1147880044\n",
       "1       1      306     3.5  1147868817\n",
       "2       1      307     5.0  1147868828\n",
       "3       1      665     5.0  1147878820\n",
       "4       1      899     3.5  1147868510"
      ]
     },
     "execution_count": 2,
     "metadata": {},
     "output_type": "execute_result"
    }
   ],
   "source": [
    "rating_df = pd.read_csv(\"data/ml-25m/ratings.csv\")\n",
    "rating_df.head()"
   ]
  },
  {
   "cell_type": "code",
   "execution_count": 3,
   "id": "e86b1717-3d9f-4c23-9f52-c69602f031be",
   "metadata": {},
   "outputs": [],
   "source": [
    "movies_df = pd.read_csv(\"data/ml-25m/movies.csv\")"
   ]
  },
  {
   "cell_type": "code",
   "execution_count": 4,
   "id": "3de7f83a-53f4-445e-b837-54da8be26e46",
   "metadata": {},
   "outputs": [
    {
     "data": {
      "text/html": [
       "<div>\n",
       "<style scoped>\n",
       "    .dataframe tbody tr th:only-of-type {\n",
       "        vertical-align: middle;\n",
       "    }\n",
       "\n",
       "    .dataframe tbody tr th {\n",
       "        vertical-align: top;\n",
       "    }\n",
       "\n",
       "    .dataframe thead th {\n",
       "        text-align: right;\n",
       "    }\n",
       "</style>\n",
       "<table border=\"1\" class=\"dataframe\">\n",
       "  <thead>\n",
       "    <tr style=\"text-align: right;\">\n",
       "      <th></th>\n",
       "      <th>movieId</th>\n",
       "      <th>title</th>\n",
       "      <th>genres</th>\n",
       "    </tr>\n",
       "  </thead>\n",
       "  <tbody>\n",
       "    <tr>\n",
       "      <th>0</th>\n",
       "      <td>1</td>\n",
       "      <td>Toy Story (1995)</td>\n",
       "      <td>Adventure|Animation|Children|Comedy|Fantasy</td>\n",
       "    </tr>\n",
       "    <tr>\n",
       "      <th>1</th>\n",
       "      <td>2</td>\n",
       "      <td>Jumanji (1995)</td>\n",
       "      <td>Adventure|Children|Fantasy</td>\n",
       "    </tr>\n",
       "    <tr>\n",
       "      <th>2</th>\n",
       "      <td>3</td>\n",
       "      <td>Grumpier Old Men (1995)</td>\n",
       "      <td>Comedy|Romance</td>\n",
       "    </tr>\n",
       "    <tr>\n",
       "      <th>3</th>\n",
       "      <td>4</td>\n",
       "      <td>Waiting to Exhale (1995)</td>\n",
       "      <td>Comedy|Drama|Romance</td>\n",
       "    </tr>\n",
       "    <tr>\n",
       "      <th>4</th>\n",
       "      <td>5</td>\n",
       "      <td>Father of the Bride Part II (1995)</td>\n",
       "      <td>Comedy</td>\n",
       "    </tr>\n",
       "  </tbody>\n",
       "</table>\n",
       "</div>"
      ],
      "text/plain": [
       "   movieId                               title   \n",
       "0        1                    Toy Story (1995)  \\\n",
       "1        2                      Jumanji (1995)   \n",
       "2        3             Grumpier Old Men (1995)   \n",
       "3        4            Waiting to Exhale (1995)   \n",
       "4        5  Father of the Bride Part II (1995)   \n",
       "\n",
       "                                        genres  \n",
       "0  Adventure|Animation|Children|Comedy|Fantasy  \n",
       "1                   Adventure|Children|Fantasy  \n",
       "2                               Comedy|Romance  \n",
       "3                         Comedy|Drama|Romance  \n",
       "4                                       Comedy  "
      ]
     },
     "execution_count": 4,
     "metadata": {},
     "output_type": "execute_result"
    }
   ],
   "source": [
    "movies_df.head()"
   ]
  },
  {
   "cell_type": "code",
   "execution_count": 5,
   "id": "135a0115-9d5d-46c7-aa22-552b4f3bc1f3",
   "metadata": {},
   "outputs": [],
   "source": [
    "no_items = movies_df['movieId'].max()"
   ]
  },
  {
   "cell_type": "code",
   "execution_count": 6,
   "id": "be42d712-6be1-4620-a4e9-0f32579166b3",
   "metadata": {},
   "outputs": [
    {
     "data": {
      "text/plain": [
       "(25000095, 4)"
      ]
     },
     "execution_count": 6,
     "metadata": {},
     "output_type": "execute_result"
    }
   ],
   "source": [
    "rating_df.shape"
   ]
  },
  {
   "cell_type": "code",
   "execution_count": 7,
   "id": "00dfe2b8-d85a-4f73-8bb2-51c99879080a",
   "metadata": {},
   "outputs": [],
   "source": [
    "no_users = rating_df['userId'].max()"
   ]
  },
  {
   "cell_type": "code",
   "execution_count": 8,
   "id": "12ad1739-69fd-4919-aea8-43c7a32b7d96",
   "metadata": {},
   "outputs": [],
   "source": [
    "# sort dataset by id and timestamp\n",
    "rating_df = rating_df.sort_values(['userId', 'timestamp'])"
   ]
  },
  {
   "cell_type": "code",
   "execution_count": 9,
   "id": "47ad2eb7-7f5c-4ffd-98a8-b3a7c45c13b0",
   "metadata": {},
   "outputs": [],
   "source": [
    "# split dataset in train and eval set"
   ]
  },
  {
   "cell_type": "code",
   "execution_count": 9,
   "id": "32335239-719e-4882-9b32-676272d42b4d",
   "metadata": {},
   "outputs": [],
   "source": [
    "def func1(df):\n",
    "    n_rows = df.shape[0]\n",
    "    df['percentile'] = np.linspace(0, 100, n_rows)\n",
    "    return df\n",
    "\n",
    "rating_df = rating_df.groupby('userId').apply(func1).reset_index(drop=True)"
   ]
  },
  {
   "cell_type": "code",
   "execution_count": 10,
   "id": "b98fbb0d-169e-4e10-833a-c64a4c8172ba",
   "metadata": {},
   "outputs": [],
   "source": [
    "train_size = 80 # percent\n",
    "train_data = rating_df[rating_df['percentile'] <= train_size]\n",
    "test_data = rating_df[rating_df['percentile'] > train_size]"
   ]
  },
  {
   "cell_type": "code",
   "execution_count": 11,
   "id": "5ff5b5c9-3e04-4f8f-a9d6-f1bca6bbf2b0",
   "metadata": {},
   "outputs": [
    {
     "data": {
      "text/plain": [
       "((19968907, 5), (5031188, 5))"
      ]
     },
     "execution_count": 11,
     "metadata": {},
     "output_type": "execute_result"
    }
   ],
   "source": [
    "train_data.shape, test_data.shape"
   ]
  },
  {
   "cell_type": "code",
   "execution_count": 12,
   "id": "8c33ddc3-a514-4b48-8d46-06b2c7d2adc2",
   "metadata": {},
   "outputs": [],
   "source": [
    "del train_data['percentile'], test_data['percentile']"
   ]
  },
  {
   "cell_type": "code",
   "execution_count": 13,
   "id": "79cedfda-a2fd-4458-baee-2e68664deac0",
   "metadata": {},
   "outputs": [
    {
     "data": {
      "text/html": [
       "<div>\n",
       "<style scoped>\n",
       "    .dataframe tbody tr th:only-of-type {\n",
       "        vertical-align: middle;\n",
       "    }\n",
       "\n",
       "    .dataframe tbody tr th {\n",
       "        vertical-align: top;\n",
       "    }\n",
       "\n",
       "    .dataframe thead th {\n",
       "        text-align: right;\n",
       "    }\n",
       "</style>\n",
       "<table border=\"1\" class=\"dataframe\">\n",
       "  <thead>\n",
       "    <tr style=\"text-align: right;\">\n",
       "      <th></th>\n",
       "      <th>userId</th>\n",
       "      <th>movieId</th>\n",
       "      <th>rating</th>\n",
       "      <th>timestamp</th>\n",
       "    </tr>\n",
       "  </thead>\n",
       "  <tbody>\n",
       "    <tr>\n",
       "      <th>0</th>\n",
       "      <td>1</td>\n",
       "      <td>5952</td>\n",
       "      <td>4.0</td>\n",
       "      <td>1147868053</td>\n",
       "    </tr>\n",
       "    <tr>\n",
       "      <th>1</th>\n",
       "      <td>1</td>\n",
       "      <td>2012</td>\n",
       "      <td>2.5</td>\n",
       "      <td>1147868068</td>\n",
       "    </tr>\n",
       "    <tr>\n",
       "      <th>2</th>\n",
       "      <td>1</td>\n",
       "      <td>2011</td>\n",
       "      <td>2.5</td>\n",
       "      <td>1147868079</td>\n",
       "    </tr>\n",
       "    <tr>\n",
       "      <th>3</th>\n",
       "      <td>1</td>\n",
       "      <td>1653</td>\n",
       "      <td>4.0</td>\n",
       "      <td>1147868097</td>\n",
       "    </tr>\n",
       "    <tr>\n",
       "      <th>4</th>\n",
       "      <td>1</td>\n",
       "      <td>1250</td>\n",
       "      <td>4.0</td>\n",
       "      <td>1147868414</td>\n",
       "    </tr>\n",
       "  </tbody>\n",
       "</table>\n",
       "</div>"
      ],
      "text/plain": [
       "   userId  movieId  rating   timestamp\n",
       "0       1     5952     4.0  1147868053\n",
       "1       1     2012     2.5  1147868068\n",
       "2       1     2011     2.5  1147868079\n",
       "3       1     1653     4.0  1147868097\n",
       "4       1     1250     4.0  1147868414"
      ]
     },
     "execution_count": 13,
     "metadata": {},
     "output_type": "execute_result"
    }
   ],
   "source": [
    "train_data.head()"
   ]
  },
  {
   "cell_type": "code",
   "execution_count": 14,
   "id": "771a9452-6a7f-46a1-a4b1-e3a779073e58",
   "metadata": {},
   "outputs": [
    {
     "data": {
      "text/plain": [
       "rating\n",
       "4.0    5346555\n",
       "3.0    3892905\n",
       "5.0    3006138\n",
       "3.5    2476949\n",
       "4.5    1743999\n",
       "2.0    1297363\n",
       "2.5     976141\n",
       "1.0     611705\n",
       "1.5     310786\n",
       "0.5     306366\n",
       "Name: count, dtype: int64"
      ]
     },
     "execution_count": 14,
     "metadata": {},
     "output_type": "execute_result"
    }
   ],
   "source": [
    "train_data['rating'].value_counts()"
   ]
  },
  {
   "cell_type": "code",
   "execution_count": 15,
   "id": "3f148c8b-b232-4a32-902f-f7ed49636cec",
   "metadata": {},
   "outputs": [],
   "source": [
    "# assuming rating more than 3 means user like the movie else he/she didn't\n",
    "rating_threshold = 3\n",
    "from data import Data\n",
    "from tqdm import tqdm"
   ]
  },
  {
   "cell_type": "code",
   "execution_count": 16,
   "id": "09c4fea8-95fc-408e-9c8a-913fef2f549e",
   "metadata": {},
   "outputs": [],
   "source": [
    "trainds = Data(train_data)\n",
    "testds = Data(test_data)"
   ]
  },
  {
   "cell_type": "code",
   "execution_count": 101,
   "id": "ee79241a-f611-40a8-a935-0dd6ec1962a1",
   "metadata": {},
   "outputs": [
    {
     "name": "stdout",
     "output_type": "stream",
     "text": [
      "16384\n"
     ]
    }
   ],
   "source": [
    "batch_size = 2**14\n",
    "n_workers = 4\n",
    "\n",
    "traindl = torch.utils.data.DataLoader(trainds, batch_size=batch_size, shuffle=True, num_workers=1)\n",
    "\n",
    "testdl = torch.utils.data.DataLoader(testds, batch_size=batch_size, shuffle=True, num_workers=1)\n",
    "print(batch_size)"
   ]
  },
  {
   "cell_type": "code",
   "execution_count": 160,
   "id": "4ca66e0c-c683-49a9-ba0b-763aa3f6a5a7",
   "metadata": {},
   "outputs": [],
   "source": [
    "item_feature_name = \"movieId\"\n",
    "user_feature_name = \"userId\"\n",
    "\n",
    "class ItemTower(nn.Module):\n",
    "    def __init__(self, config):\n",
    "        super().__init__()\n",
    "        self.features = config['item']['features']\n",
    "        if item_feature_name in self.features:\n",
    "            self.item_module = nn.Embedding(config['item']['n_items'], config['item']['emb'])\n",
    "        else:\n",
    "            self.item_module = nn.Identity()\n",
    "        self.mlp = nn.Sequential(\n",
    "            nn.Linear(config['item']['emb'], config['item']['emb']),\n",
    "            nn.GELU(),\n",
    "            nn.LayerNorm(config['item']['emb'])\n",
    "        )\n",
    "        \n",
    "    def forward(self, batch):\n",
    "        item_emb = self.item_module(batch[item_feature_name].long())\n",
    "        return self.mlp(item_emb)\n",
    "\n",
    "\n",
    "class UserTower(nn.Module):\n",
    "    def __init__(self,config):\n",
    "        super().__init__()\n",
    "        self.features = config['user']['features']\n",
    "        if user_feature_name in self.features:\n",
    "            self.user_module = nn.Embedding(config['user']['n_users'], config['user']['emb'])\n",
    "        else:\n",
    "            self.item_module = nn.Identity()\n",
    "        self.mlp = nn.Sequential(\n",
    "            nn.Linear(config['user']['emb'], config['user']['emb']),\n",
    "            nn.GELU(),\n",
    "            nn.LayerNorm(config['user']['emb'])\n",
    "        )\n",
    "        \n",
    "    def forward(self, batch):\n",
    "        user_emb = self.user_module(batch[user_feature_name].long())\n",
    "        return self.mlp(user_emb)\n",
    "\n",
    "class CombinerTower(nn.Module):\n",
    "    def __init__(self,config):\n",
    "        super().__init__()\n",
    "        self.item_tower = ItemTower(config)\n",
    "        self.user_tower = UserTower(config)\n",
    "        user_dim, item_dim = config['user']['emb'], config['item']['emb']\n",
    "        self.mlp = nn.Sequential(\n",
    "            nn.Linear(user_dim+item_dim, config['emb']),\n",
    "            nn.GELU(),\n",
    "            nn.LayerNorm(config['emb'])\n",
    "        )\n",
    "        self.tasks = nn.ModuleDict({\n",
    "            task_name: nn.Linear(config['emb'], out) for task_name, out in config['tasks']\n",
    "        })\n",
    "        \n",
    "    def forward(self, batch):\n",
    "        item_emb = self.item_tower(batch)\n",
    "        user_emb = self.user_tower(batch)\n",
    "        x = torch.concat([user_emb, item_emb], axis=1)\n",
    "        x = self.mlp(x)\n",
    "        res = {}\n",
    "        for task_name, mod in self.tasks.items():\n",
    "            res[task_name] = mod(x)\n",
    "        return res\n",
    "\n",
    "config = {\n",
    "    'user':{\n",
    "        'features':[\n",
    "            'userId'\n",
    "        ],\n",
    "        'n_users':no_users + 2**10,\n",
    "        'emb': 64\n",
    "    },\n",
    "    'item':{\n",
    "        'features':[\n",
    "            'movieId'\n",
    "        ],\n",
    "        'n_items':no_items + 2**10,\n",
    "        'emb': 64\n",
    "    },\n",
    "    'emb':64,\n",
    "    'tasks':[\n",
    "        ['rating', 1]\n",
    "    ]\n",
    "}"
   ]
  },
  {
   "cell_type": "code",
   "execution_count": 148,
   "id": "bb8dc5a0-6c0e-4a60-8951-9158bcf59fa0",
   "metadata": {},
   "outputs": [],
   "source": [
    "model = CombinerTower(config)"
   ]
  },
  {
   "cell_type": "code",
   "execution_count": 134,
   "id": "12887df0-b030-4d6f-a315-6feed8b0f77d",
   "metadata": {},
   "outputs": [],
   "source": [
    "from torchmetrics.classification import average_precision, ROC, Recall, Accuracy\n",
    "\n",
    "class Metric:\n",
    "    def __init__(self, device=torch.device(\"cpu\"), task=\"binary\"):\n",
    "        device = device\n",
    "        self.counter = 0\n",
    "        self._metric = {\n",
    "            \"map\": average_precision.AveragePrecision(task=task),\n",
    "            \"accuracy\": Accuracy(task=task),\n",
    "            \"recall\": Recall(task=task)\n",
    "        }\n",
    "        self._accelerator = {\n",
    "            \"map\": 0,\n",
    "            \"accuracy\": 0,\n",
    "            \"recall\": 0\n",
    "        }\n",
    "        \n",
    "    def __call__(self, output, actual) -> dict:\n",
    "        out = {}\n",
    "        for metric_name, mod in self._metric.items():\n",
    "            out[metric_name] = mod(output, actual)\n",
    "            self._accelerator[metric_name] += out[metric_name]\n",
    "        self.counter += 1\n",
    "        return out\n",
    "    \n",
    "    def get(self):\n",
    "        return {\n",
    "            k:v/self.counter for k,v in self._accelerator.items()\n",
    "        }\n",
    "\n",
    "    def to(self, device):\n",
    "        for i in self._metric:\n",
    "            self._metric[i].to(device)\n",
    "        return self"
   ]
  },
  {
   "cell_type": "code",
   "execution_count": 135,
   "id": "311a62d1",
   "metadata": {},
   "outputs": [
    {
     "name": "stdout",
     "output_type": "stream",
     "text": [
      "tensor([0, 1, 1, 1, 0, 0, 1, 0, 0, 0, 0, 1, 1, 0, 1, 0, 0, 0, 0, 1]) tensor([-0.4142,  0.9052, -1.1952,  1.1407,  0.1014, -1.4244, -0.9388, -0.7567,\n",
      "         0.1958, -0.9591,  0.6681,  0.6016, -0.3790, -2.0306,  0.4814, -0.2623,\n",
      "         1.6520,  0.8246, -0.3324,  0.3609])\n",
      "{'map': tensor(0.5258), 'accuracy': tensor(0.6000), 'recall': tensor(0.6250)}\n"
     ]
    },
    {
     "data": {
      "text/plain": [
       "{'map': tensor(0.5258), 'accuracy': tensor(0.6000), 'recall': tensor(0.6250)}"
      ]
     },
     "execution_count": 135,
     "metadata": {},
     "output_type": "execute_result"
    }
   ],
   "source": [
    "metric = Metric()\n",
    "output, actual = torch.randn(20, 1).view(-1), torch.randint(0, 2, size=(20, 1)).view(-1)\n",
    "print(actual, output)\n",
    "print(metric(output, actual))\n",
    "metric.get()"
   ]
  },
  {
   "cell_type": "code",
   "execution_count": 136,
   "id": "bb509829-9982-476d-8b10-fc6da1140b16",
   "metadata": {},
   "outputs": [],
   "source": [
    "class Trainer:\n",
    "    def __init__(self,\n",
    "                model: torch.nn.Module,\n",
    "                train_dataloader: torch.utils.data.DataLoader,\n",
    "                eval_dataloader: torch.utils.data.DataLoader = None,\n",
    "                loss_fn = torch.nn.functional.mse_loss,\n",
    "                epochs: int = 5,\n",
    "                optimizer_clz = torch.optim.SGD,\n",
    "                optim_params: dict = {'lr':1e-2},\n",
    "                device: torch.device = torch.device(\"cpu\"),\n",
    "                metric_collection = None,\n",
    "                verbose = 1,\n",
    "                log_step = 500,\n",
    "                *args, **kwargs\n",
    "                ):\n",
    "        self.log_step = log_step\n",
    "        self.verbose = verbose\n",
    "        self.model = model.to(device)\n",
    "        self.train_dl = train_dataloader\n",
    "        self.eval_dl = eval_dataloader\n",
    "        self.loss_fn = loss_fn\n",
    "        self.optimizer = optimizer_clz(self.model.parameters(), **optim_params)\n",
    "        self.epochs = epochs\n",
    "        self.device = device\n",
    "        self.metric_collection = metric_collection.to(device) if metric_collection else None\n",
    "\n",
    "    def compute_loss(self, batch, output):\n",
    "        loss = {}\n",
    "        for k in output:\n",
    "            if k in batch:\n",
    "                y = (batch[k] >= rating_threshold).float()\n",
    "                loss[k] = self.loss_fn(output[k], y.view(-1, 1))\n",
    "        return loss\n",
    "\n",
    "    def compute_metric(self, batch, output, show_tensor=False):\n",
    "        res = {}\n",
    "        for k in output:\n",
    "            if k in batch:\n",
    "                y = (batch[k] >= rating_threshold).long()\n",
    "                if show_tensor:\n",
    "                    print(batch[k].sum(), batch[k].shape[0])\n",
    "                res[k] = self.metric_collection(output[k].view(-1), y.view(-1))\n",
    "        return res\n",
    "    \n",
    "    def set_output(self, _iter, loss, avg_loss, train=True):\n",
    "        _iter.set_description(\n",
    "            \"{}: step loss: {:.3f}, avg_loss: {:.3f}\".format(\n",
    "                \"Train\" if train else \"Eval\",\n",
    "                loss,\n",
    "                avg_loss\n",
    "            )\n",
    "        )\n",
    "    def train_epoch(self):\n",
    "        self.model = self.model.train()\n",
    "        \n",
    "        _iter = tqdm(self.train_dl)\n",
    "        n_batches = len(self.train_dl)\n",
    "        total_loss = 0\n",
    "        for _i, batch in enumerate(_iter):\n",
    "            self.optimizer.zero_grad()\n",
    "            output = self.model(batch)\n",
    "            loss = self.compute_loss(batch, output)\n",
    "            # multiple task we need better way to gives weights, ryt now it is uniform\n",
    "            loss = sum([loss[l] for l in loss])/(len(loss) + 1e-6)\n",
    "            \n",
    "            loss.backward()\n",
    "            self.optimizer.step()\n",
    "            total_loss += loss.cpu().item()\n",
    "            \n",
    "            self.set_output(_iter, loss.item(), total_loss/(_i+1), train=True)\n",
    "            show_tensor = False\n",
    "            if self.verbose > 0 \\\n",
    "                and _i % self.log_step == 0 and _i != 0:\n",
    "                print(self.metric_collection.get())\n",
    "                show_tensor = True\n",
    "            with torch.no_grad():\n",
    "                self.compute_metric(batch, output, show_tensor)\n",
    "        return {\n",
    "            'loss': total_loss/(n_batches),\n",
    "            'mode': 'Train'\n",
    "        }\n",
    "    \n",
    "    @torch.no_grad()\n",
    "    def eval_epoch(self):\n",
    "        self.model = self.model.eval()\n",
    "        \n",
    "        _iter = tqdm(self.eval_dl)\n",
    "        n_batches = len(self.eval_dl)\n",
    "        total_loss = 0\n",
    "        for _i, batch in enumerate(_iter):\n",
    "            output = self.model(batch)\n",
    "            loss = self.compute_loss(batch, output)\n",
    "            # multiple task we need better way to gives weights, ryt now it is uniform\n",
    "            loss = sum([loss[l] for l in loss])/(len(loss) + 1e-6)\n",
    "            \n",
    "            total_loss += loss.cpu().item()\n",
    "            self.set_output(_iter, loss.item(), total_loss/(_i+1), train=False)\n",
    "            \n",
    "            show_tensor = False\n",
    "            if self.verbose > 0 \\\n",
    "                and _i % self.log_step == 0 and _i != 0:\n",
    "                print(self.metric_collection.get())\n",
    "                show_tensor = True\n",
    "            self.compute_metric(batch, output, show_tensor=show_tensor)\n",
    "                \n",
    "        return {\n",
    "            'loss': total_loss/(n_batches),\n",
    "            'mode': 'Eval'\n",
    "        }\n",
    "\n",
    "    def fit(self):\n",
    "        for epoch in range(1, self.epochs+1):\n",
    "            print(\"EPOCH:\", epoch)\n",
    "            self.train_epoch()\n",
    "            eval_output = self.eval_epoch()\n",
    "            print(eval_output)"
   ]
  },
  {
   "cell_type": "code",
   "execution_count": 137,
   "id": "4bdba1d9-117f-4828-bfaa-42a5f5012841",
   "metadata": {},
   "outputs": [],
   "source": [
    "trainer = Trainer(\n",
    "    model=model, train_dataloader=traindl, eval_dataloader=testdl, \n",
    "    loss_fn=F.binary_cross_entropy_with_logits,\n",
    "    metric_collection = Metric(),\n",
    "    log_step = 100\n",
    ")"
   ]
  },
  {
   "cell_type": "code",
   "execution_count": 138,
   "id": "2bde6177-3407-4375-bc1a-ff70697cca38",
   "metadata": {},
   "outputs": [
    {
     "name": "stdout",
     "output_type": "stream",
     "text": [
      "EPOCH: 1\n"
     ]
    },
    {
     "name": "stderr",
     "output_type": "stream",
     "text": [
      "Train: step loss: 0.491, avg_loss: 0.562:   8%|▊         | 101/1219 [01:58<19:36,  1.05s/it]"
     ]
    },
    {
     "name": "stdout",
     "output_type": "stream",
     "text": [
      "{'map': tensor(0.8256), 'accuracy': tensor(0.7400), 'recall': tensor(0.8694)}\n",
      "tensor(58244.5000, dtype=torch.float64) 16384\n"
     ]
    },
    {
     "name": "stderr",
     "output_type": "stream",
     "text": [
      "Train: step loss: 0.479, avg_loss: 0.524:  16%|█▋        | 201/1219 [03:44<17:53,  1.05s/it]"
     ]
    },
    {
     "name": "stdout",
     "output_type": "stream",
     "text": [
      "{'map': tensor(0.8257), 'accuracy': tensor(0.7804), 'recall': tensor(0.9319)}\n",
      "tensor(58206.5000, dtype=torch.float64) 16384\n"
     ]
    },
    {
     "name": "stderr",
     "output_type": "stream",
     "text": [
      "Train: step loss: 0.473, avg_loss: 0.509:  25%|██▍       | 301/1219 [05:29<16:12,  1.06s/it]"
     ]
    },
    {
     "name": "stdout",
     "output_type": "stream",
     "text": [
      "{'map': tensor(0.8263), 'accuracy': tensor(0.7948), 'recall': tensor(0.9542)}\n",
      "tensor(58090.5000, dtype=torch.float64) 16384\n"
     ]
    },
    {
     "name": "stderr",
     "output_type": "stream",
     "text": [
      "Train: step loss: 0.479, avg_loss: 0.500:  33%|███▎      | 401/1219 [07:13<14:11,  1.04s/it]"
     ]
    },
    {
     "name": "stdout",
     "output_type": "stream",
     "text": [
      "{'map': tensor(0.8267), 'accuracy': tensor(0.8022), 'recall': tensor(0.9656)}\n",
      "tensor(58084., dtype=torch.float64) 16384\n"
     ]
    },
    {
     "name": "stderr",
     "output_type": "stream",
     "text": [
      "Train: step loss: 0.468, avg_loss: 0.494:  41%|████      | 501/1219 [09:04<13:30,  1.13s/it]"
     ]
    },
    {
     "name": "stdout",
     "output_type": "stream",
     "text": [
      "{'map': tensor(0.8273), 'accuracy': tensor(0.8067), 'recall': tensor(0.9724)}\n",
      "tensor(58205., dtype=torch.float64) 16384\n"
     ]
    },
    {
     "name": "stderr",
     "output_type": "stream",
     "text": [
      "Train: step loss: 0.462, avg_loss: 0.491:  49%|████▉     | 601/1219 [10:57<11:36,  1.13s/it]"
     ]
    },
    {
     "name": "stdout",
     "output_type": "stream",
     "text": [
      "{'map': tensor(0.8279), 'accuracy': tensor(0.8096), 'recall': tensor(0.9770)}\n",
      "tensor(58154.5000, dtype=torch.float64) 16384\n"
     ]
    },
    {
     "name": "stderr",
     "output_type": "stream",
     "text": [
      "Train: step loss: 0.470, avg_loss: 0.487:  58%|█████▊    | 701/1219 [13:00<12:20,  1.43s/it]"
     ]
    },
    {
     "name": "stdout",
     "output_type": "stream",
     "text": [
      "{'map': tensor(0.8284), 'accuracy': tensor(0.8118), 'recall': tensor(0.9803)}\n",
      "tensor(58077., dtype=torch.float64) 16384\n"
     ]
    },
    {
     "name": "stderr",
     "output_type": "stream",
     "text": [
      "Train: step loss: 0.473, avg_loss: 0.485:  66%|██████▌   | 801/1219 [14:54<07:52,  1.13s/it]"
     ]
    },
    {
     "name": "stdout",
     "output_type": "stream",
     "text": [
      "{'map': tensor(0.8290), 'accuracy': tensor(0.8134), 'recall': tensor(0.9828)}\n",
      "tensor(58027.5000, dtype=torch.float64) 16384\n"
     ]
    },
    {
     "name": "stderr",
     "output_type": "stream",
     "text": [
      "Train: step loss: 0.469, avg_loss: 0.483:  74%|███████▍  | 901/1219 [16:47<06:01,  1.14s/it]"
     ]
    },
    {
     "name": "stdout",
     "output_type": "stream",
     "text": [
      "{'map': tensor(0.8295), 'accuracy': tensor(0.8147), 'recall': tensor(0.9847)}\n",
      "tensor(57979.5000, dtype=torch.float64) 16384\n"
     ]
    },
    {
     "name": "stderr",
     "output_type": "stream",
     "text": [
      "Train: step loss: 0.459, avg_loss: 0.482:  82%|████████▏ | 1001/1219 [18:40<04:08,  1.14s/it]"
     ]
    },
    {
     "name": "stdout",
     "output_type": "stream",
     "text": [
      "{'map': tensor(0.8299), 'accuracy': tensor(0.8157), 'recall': tensor(0.9862)}\n",
      "tensor(58527., dtype=torch.float64) 16384\n"
     ]
    },
    {
     "name": "stderr",
     "output_type": "stream",
     "text": [
      "Train: step loss: 0.468, avg_loss: 0.480:  90%|█████████ | 1101/1219 [20:36<02:31,  1.28s/it]"
     ]
    },
    {
     "name": "stdout",
     "output_type": "stream",
     "text": [
      "{'map': tensor(0.8304), 'accuracy': tensor(0.8165), 'recall': tensor(0.9875)}\n",
      "tensor(58160., dtype=torch.float64) 16384\n"
     ]
    },
    {
     "name": "stderr",
     "output_type": "stream",
     "text": [
      "Train: step loss: 0.466, avg_loss: 0.479:  99%|█████████▊| 1201/1219 [22:35<00:23,  1.29s/it]"
     ]
    },
    {
     "name": "stdout",
     "output_type": "stream",
     "text": [
      "{'map': tensor(0.8308), 'accuracy': tensor(0.8172), 'recall': tensor(0.9885)}\n",
      "tensor(58189.5000, dtype=torch.float64) 16384\n"
     ]
    },
    {
     "name": "stderr",
     "output_type": "stream",
     "text": [
      "Train: step loss: 0.467, avg_loss: 0.479: 100%|██████████| 1219/1219 [23:02<00:00,  1.13s/it]\n",
      "Eval: step loss: 0.492, avg_loss: 0.494:  33%|███▎      | 101/308 [02:00<04:16,  1.24s/it]"
     ]
    },
    {
     "name": "stdout",
     "output_type": "stream",
     "text": [
      "{'map': tensor(0.8298), 'accuracy': tensor(0.8165), 'recall': tensor(0.9895)}\n",
      "tensor(56964., dtype=torch.float64) 16384\n"
     ]
    },
    {
     "name": "stderr",
     "output_type": "stream",
     "text": [
      "Eval: step loss: 0.490, avg_loss: 0.494:  65%|██████▌   | 201/308 [03:55<02:12,  1.24s/it]"
     ]
    },
    {
     "name": "stdout",
     "output_type": "stream",
     "text": [
      "{'map': tensor(0.8288), 'accuracy': tensor(0.8158), 'recall': tensor(0.9903)}\n",
      "tensor(56999., dtype=torch.float64) 16384\n"
     ]
    },
    {
     "name": "stderr",
     "output_type": "stream",
     "text": [
      "Eval: step loss: 0.495, avg_loss: 0.494:  98%|█████████▊| 301/308 [05:53<00:08,  1.20s/it]"
     ]
    },
    {
     "name": "stdout",
     "output_type": "stream",
     "text": [
      "{'map': tensor(0.8279), 'accuracy': tensor(0.8153), 'recall': tensor(0.9909)}\n",
      "tensor(56934.5000, dtype=torch.float64) 16384\n"
     ]
    },
    {
     "name": "stderr",
     "output_type": "stream",
     "text": [
      "Eval: step loss: 0.500, avg_loss: 0.494: 100%|██████████| 308/308 [06:04<00:00,  1.18s/it]\n"
     ]
    },
    {
     "name": "stdout",
     "output_type": "stream",
     "text": [
      "{'loss': 0.494243679011797, 'mode': 'Eval'}\n",
      "EPOCH: 2\n"
     ]
    },
    {
     "name": "stderr",
     "output_type": "stream",
     "text": [
      "Train: step loss: 0.470, avg_loss: 0.466:   8%|▊         | 101/1219 [02:05<21:57,  1.18s/it]"
     ]
    },
    {
     "name": "stdout",
     "output_type": "stream",
     "text": [
      "{'map': tensor(0.8284), 'accuracy': tensor(0.8158), 'recall': tensor(0.9915)}\n",
      "tensor(57890.5000, dtype=torch.float64) 16384\n"
     ]
    },
    {
     "name": "stderr",
     "output_type": "stream",
     "text": [
      "Train: step loss: 0.467, avg_loss: 0.466:  16%|█▋        | 201/1219 [04:06<22:14,  1.31s/it]"
     ]
    },
    {
     "name": "stdout",
     "output_type": "stream",
     "text": [
      "{'map': tensor(0.8289), 'accuracy': tensor(0.8163), 'recall': tensor(0.9920)}\n",
      "tensor(58132., dtype=torch.float64) 16384\n"
     ]
    },
    {
     "name": "stderr",
     "output_type": "stream",
     "text": [
      "Train: step loss: 0.463, avg_loss: 0.465:  25%|██▍       | 301/1219 [06:06<18:11,  1.19s/it]"
     ]
    },
    {
     "name": "stdout",
     "output_type": "stream",
     "text": [
      "{'map': tensor(0.8294), 'accuracy': tensor(0.8168), 'recall': tensor(0.9924)}\n",
      "tensor(58103.5000, dtype=torch.float64) 16384\n"
     ]
    },
    {
     "name": "stderr",
     "output_type": "stream",
     "text": [
      "Train: step loss: 0.466, avg_loss: 0.465:  33%|███▎      | 401/1219 [08:07<17:18,  1.27s/it]"
     ]
    },
    {
     "name": "stdout",
     "output_type": "stream",
     "text": [
      "{'map': tensor(0.8299), 'accuracy': tensor(0.8172), 'recall': tensor(0.9928)}\n",
      "tensor(58106., dtype=torch.float64) 16384\n"
     ]
    },
    {
     "name": "stderr",
     "output_type": "stream",
     "text": [
      "Train: step loss: 0.460, avg_loss: 0.465:  41%|████      | 501/1219 [10:02<13:40,  1.14s/it]"
     ]
    },
    {
     "name": "stdout",
     "output_type": "stream",
     "text": [
      "{'map': tensor(0.8303), 'accuracy': tensor(0.8175), 'recall': tensor(0.9932)}\n",
      "tensor(58275.5000, dtype=torch.float64) 16384\n"
     ]
    },
    {
     "name": "stderr",
     "output_type": "stream",
     "text": [
      "Train: step loss: 0.457, avg_loss: 0.465:  49%|████▉     | 601/1219 [11:52<10:45,  1.04s/it]"
     ]
    },
    {
     "name": "stdout",
     "output_type": "stream",
     "text": [
      "{'map': tensor(0.8308), 'accuracy': tensor(0.8179), 'recall': tensor(0.9935)}\n",
      "tensor(58340., dtype=torch.float64) 16384\n"
     ]
    },
    {
     "name": "stderr",
     "output_type": "stream",
     "text": [
      "Train: step loss: 0.463, avg_loss: 0.465:  58%|█████▊    | 701/1219 [13:38<09:03,  1.05s/it]"
     ]
    },
    {
     "name": "stdout",
     "output_type": "stream",
     "text": [
      "{'map': tensor(0.8311), 'accuracy': tensor(0.8182), 'recall': tensor(0.9938)}\n",
      "tensor(58215., dtype=torch.float64) 16384\n"
     ]
    },
    {
     "name": "stderr",
     "output_type": "stream",
     "text": [
      "Train: step loss: 0.467, avg_loss: 0.465:  66%|██████▌   | 801/1219 [15:25<07:15,  1.04s/it]"
     ]
    },
    {
     "name": "stdout",
     "output_type": "stream",
     "text": [
      "{'map': tensor(0.8315), 'accuracy': tensor(0.8185), 'recall': tensor(0.9941)}\n",
      "tensor(58177.5000, dtype=torch.float64) 16384\n"
     ]
    },
    {
     "name": "stderr",
     "output_type": "stream",
     "text": [
      "Train: step loss: 0.473, avg_loss: 0.465:  74%|███████▍  | 901/1219 [17:12<05:34,  1.05s/it]"
     ]
    },
    {
     "name": "stdout",
     "output_type": "stream",
     "text": [
      "{'map': tensor(0.8319), 'accuracy': tensor(0.8187), 'recall': tensor(0.9943)}\n",
      "tensor(57921., dtype=torch.float64) 16384\n"
     ]
    },
    {
     "name": "stderr",
     "output_type": "stream",
     "text": [
      "Train: step loss: 0.466, avg_loss: 0.465:  82%|████████▏ | 1001/1219 [19:00<03:57,  1.09s/it]"
     ]
    },
    {
     "name": "stdout",
     "output_type": "stream",
     "text": [
      "{'map': tensor(0.8323), 'accuracy': tensor(0.8189), 'recall': tensor(0.9945)}\n",
      "tensor(58115., dtype=torch.float64) 16384\n"
     ]
    },
    {
     "name": "stderr",
     "output_type": "stream",
     "text": [
      "Train: step loss: 0.461, avg_loss: 0.465:  90%|█████████ | 1101/1219 [20:48<02:05,  1.06s/it]"
     ]
    },
    {
     "name": "stdout",
     "output_type": "stream",
     "text": [
      "{'map': tensor(0.8326), 'accuracy': tensor(0.8191), 'recall': tensor(0.9947)}\n",
      "tensor(58383., dtype=torch.float64) 16384\n"
     ]
    },
    {
     "name": "stderr",
     "output_type": "stream",
     "text": [
      "Train: step loss: 0.463, avg_loss: 0.465:  99%|█████████▊| 1201/1219 [22:36<00:18,  1.05s/it]"
     ]
    },
    {
     "name": "stdout",
     "output_type": "stream",
     "text": [
      "{'map': tensor(0.8330), 'accuracy': tensor(0.8193), 'recall': tensor(0.9949)}\n",
      "tensor(58136., dtype=torch.float64) 16384\n"
     ]
    },
    {
     "name": "stderr",
     "output_type": "stream",
     "text": [
      "Train: step loss: 0.462, avg_loss: 0.465: 100%|██████████| 1219/1219 [23:01<00:00,  1.13s/it]\n",
      "Eval: step loss: 0.496, avg_loss: 0.492:  33%|███▎      | 101/308 [01:57<03:47,  1.10s/it]"
     ]
    },
    {
     "name": "stdout",
     "output_type": "stream",
     "text": [
      "{'map': tensor(0.8326), 'accuracy': tensor(0.8190), 'recall': tensor(0.9951)}\n",
      "tensor(56854., dtype=torch.float64) 16384\n"
     ]
    },
    {
     "name": "stderr",
     "output_type": "stream",
     "text": [
      "Eval: step loss: 0.485, avg_loss: 0.492:  65%|██████▌   | 201/308 [03:56<02:14,  1.25s/it]"
     ]
    },
    {
     "name": "stdout",
     "output_type": "stream",
     "text": [
      "{'map': tensor(0.8323), 'accuracy': tensor(0.8186), 'recall': tensor(0.9953)}\n",
      "tensor(57040., dtype=torch.float64) 16384\n"
     ]
    },
    {
     "name": "stderr",
     "output_type": "stream",
     "text": [
      "Eval: step loss: 0.504, avg_loss: 0.492:  98%|█████████▊| 301/308 [05:57<00:08,  1.25s/it]"
     ]
    },
    {
     "name": "stdout",
     "output_type": "stream",
     "text": [
      "{'map': tensor(0.8319), 'accuracy': tensor(0.8182), 'recall': tensor(0.9955)}\n",
      "tensor(56577., dtype=torch.float64) 16384\n"
     ]
    },
    {
     "name": "stderr",
     "output_type": "stream",
     "text": [
      "Eval: step loss: 0.498, avg_loss: 0.492: 100%|██████████| 308/308 [06:09<00:00,  1.20s/it]\n"
     ]
    },
    {
     "name": "stdout",
     "output_type": "stream",
     "text": [
      "{'loss': 0.4917071965801251, 'mode': 'Eval'}\n",
      "EPOCH: 3\n"
     ]
    },
    {
     "name": "stderr",
     "output_type": "stream",
     "text": [
      "Train: step loss: 0.463, avg_loss: 0.463:   8%|▊         | 101/1219 [02:11<23:22,  1.25s/it]"
     ]
    },
    {
     "name": "stdout",
     "output_type": "stream",
     "text": [
      "{'map': tensor(0.8322), 'accuracy': tensor(0.8183), 'recall': tensor(0.9956)}\n",
      "tensor(58049., dtype=torch.float64) 16384\n"
     ]
    },
    {
     "name": "stderr",
     "output_type": "stream",
     "text": [
      "Train: step loss: 0.458, avg_loss: 0.463:  16%|█▋        | 201/1219 [04:19<22:07,  1.30s/it]"
     ]
    },
    {
     "name": "stdout",
     "output_type": "stream",
     "text": [
      "{'map': tensor(0.8326), 'accuracy': tensor(0.8186), 'recall': tensor(0.9958)}\n",
      "tensor(58219., dtype=torch.float64) 16384\n"
     ]
    },
    {
     "name": "stderr",
     "output_type": "stream",
     "text": [
      "Train: step loss: 0.475, avg_loss: 0.463:  25%|██▍       | 301/1219 [06:26<19:44,  1.29s/it]"
     ]
    },
    {
     "name": "stdout",
     "output_type": "stream",
     "text": [
      "{'map': tensor(0.8329), 'accuracy': tensor(0.8187), 'recall': tensor(0.9959)}\n",
      "tensor(58041., dtype=torch.float64) 16384\n"
     ]
    },
    {
     "name": "stderr",
     "output_type": "stream",
     "text": [
      "Train: step loss: 0.461, avg_loss: 0.463:  33%|███▎      | 401/1219 [08:35<17:33,  1.29s/it]"
     ]
    },
    {
     "name": "stdout",
     "output_type": "stream",
     "text": [
      "{'map': tensor(0.8332), 'accuracy': tensor(0.8189), 'recall': tensor(0.9960)}\n",
      "tensor(58194.5000, dtype=torch.float64) 16384\n"
     ]
    },
    {
     "name": "stderr",
     "output_type": "stream",
     "text": [
      "Train: step loss: 0.467, avg_loss: 0.463:  41%|████      | 501/1219 [10:48<16:24,  1.37s/it]"
     ]
    },
    {
     "name": "stdout",
     "output_type": "stream",
     "text": [
      "{'map': tensor(0.8336), 'accuracy': tensor(0.8190), 'recall': tensor(0.9961)}\n",
      "tensor(58081.5000, dtype=torch.float64) 16384\n"
     ]
    },
    {
     "name": "stderr",
     "output_type": "stream",
     "text": [
      "Train: step loss: 0.458, avg_loss: 0.463:  49%|████▉     | 601/1219 [13:01<13:27,  1.31s/it]"
     ]
    },
    {
     "name": "stdout",
     "output_type": "stream",
     "text": [
      "{'map': tensor(0.8339), 'accuracy': tensor(0.8192), 'recall': tensor(0.9962)}\n",
      "tensor(58282., dtype=torch.float64) 16384\n"
     ]
    },
    {
     "name": "stderr",
     "output_type": "stream",
     "text": [
      "Train: step loss: 0.464, avg_loss: 0.463:  58%|█████▊    | 701/1219 [15:12<11:08,  1.29s/it]"
     ]
    },
    {
     "name": "stdout",
     "output_type": "stream",
     "text": [
      "{'map': tensor(0.8342), 'accuracy': tensor(0.8194), 'recall': tensor(0.9963)}\n",
      "tensor(58140.5000, dtype=torch.float64) 16384\n"
     ]
    },
    {
     "name": "stderr",
     "output_type": "stream",
     "text": [
      "Train: step loss: 0.464, avg_loss: 0.463:  66%|██████▌   | 801/1219 [17:22<08:58,  1.29s/it]"
     ]
    },
    {
     "name": "stdout",
     "output_type": "stream",
     "text": [
      "{'map': tensor(0.8345), 'accuracy': tensor(0.8195), 'recall': tensor(0.9964)}\n",
      "tensor(58015.5000, dtype=torch.float64) 16384\n"
     ]
    },
    {
     "name": "stderr",
     "output_type": "stream",
     "text": [
      "Train: step loss: 0.466, avg_loss: 0.463:  74%|███████▍  | 901/1219 [19:33<06:52,  1.30s/it]"
     ]
    },
    {
     "name": "stdout",
     "output_type": "stream",
     "text": [
      "{'map': tensor(0.8348), 'accuracy': tensor(0.8196), 'recall': tensor(0.9965)}\n",
      "tensor(58031.5000, dtype=torch.float64) 16384\n"
     ]
    },
    {
     "name": "stderr",
     "output_type": "stream",
     "text": [
      "Train: step loss: 0.464, avg_loss: 0.463:  82%|████████▏ | 1001/1219 [21:43<04:46,  1.32s/it]"
     ]
    },
    {
     "name": "stdout",
     "output_type": "stream",
     "text": [
      "{'map': tensor(0.8351), 'accuracy': tensor(0.8197), 'recall': tensor(0.9966)}\n",
      "tensor(58120.5000, dtype=torch.float64) 16384\n"
     ]
    },
    {
     "name": "stderr",
     "output_type": "stream",
     "text": [
      "Train: step loss: 0.472, avg_loss: 0.462:  90%|█████████ | 1101/1219 [23:52<02:32,  1.29s/it]"
     ]
    },
    {
     "name": "stdout",
     "output_type": "stream",
     "text": [
      "{'map': tensor(0.8354), 'accuracy': tensor(0.8199), 'recall': tensor(0.9967)}\n",
      "tensor(57982., dtype=torch.float64) 16384\n"
     ]
    },
    {
     "name": "stderr",
     "output_type": "stream",
     "text": [
      "Train: step loss: 0.457, avg_loss: 0.462:  99%|█████████▊| 1201/1219 [26:03<00:23,  1.30s/it]"
     ]
    },
    {
     "name": "stdout",
     "output_type": "stream",
     "text": [
      "{'map': tensor(0.8357), 'accuracy': tensor(0.8200), 'recall': tensor(0.9968)}\n",
      "tensor(58350.5000, dtype=torch.float64) 16384\n"
     ]
    },
    {
     "name": "stderr",
     "output_type": "stream",
     "text": [
      "Train: step loss: 0.467, avg_loss: 0.462: 100%|██████████| 1219/1219 [26:32<00:00,  1.31s/it]\n",
      "Eval: step loss: 0.494, avg_loss: 0.490:  33%|███▎      | 101/308 [02:12<04:24,  1.28s/it]"
     ]
    },
    {
     "name": "stdout",
     "output_type": "stream",
     "text": [
      "{'map': tensor(0.8355), 'accuracy': tensor(0.8197), 'recall': tensor(0.9968)}\n",
      "tensor(56917.5000, dtype=torch.float64) 16384\n"
     ]
    },
    {
     "name": "stderr",
     "output_type": "stream",
     "text": [
      "Eval: step loss: 0.491, avg_loss: 0.490:  65%|██████▌   | 201/308 [04:17<02:14,  1.26s/it]"
     ]
    },
    {
     "name": "stdout",
     "output_type": "stream",
     "text": [
      "{'map': tensor(0.8353), 'accuracy': tensor(0.8194), 'recall': tensor(0.9969)}\n",
      "tensor(56892., dtype=torch.float64) 16384\n"
     ]
    },
    {
     "name": "stderr",
     "output_type": "stream",
     "text": [
      "Eval: step loss: 0.486, avg_loss: 0.490:  98%|█████████▊| 301/308 [06:23<00:08,  1.27s/it]"
     ]
    },
    {
     "name": "stdout",
     "output_type": "stream",
     "text": [
      "{'map': tensor(0.8351), 'accuracy': tensor(0.8191), 'recall': tensor(0.9970)}\n",
      "tensor(57042., dtype=torch.float64) 16384\n"
     ]
    },
    {
     "name": "stderr",
     "output_type": "stream",
     "text": [
      "Eval: step loss: 0.537, avg_loss: 0.490: 100%|██████████| 308/308 [06:35<00:00,  1.29s/it]\n"
     ]
    },
    {
     "name": "stdout",
     "output_type": "stream",
     "text": [
      "{'loss': 0.4904913707793533, 'mode': 'Eval'}\n",
      "EPOCH: 4\n"
     ]
    },
    {
     "name": "stderr",
     "output_type": "stream",
     "text": [
      "Train: step loss: 0.466, avg_loss: 0.462:   8%|▊         | 101/1219 [02:14<23:03,  1.24s/it]"
     ]
    },
    {
     "name": "stdout",
     "output_type": "stream",
     "text": [
      "{'map': tensor(0.8353), 'accuracy': tensor(0.8192), 'recall': tensor(0.9971)}\n",
      "tensor(58046., dtype=torch.float64) 16384\n"
     ]
    },
    {
     "name": "stderr",
     "output_type": "stream",
     "text": [
      "Train: step loss: 0.461, avg_loss: 0.462:  16%|█▋        | 201/1219 [04:33<20:25,  1.20s/it]"
     ]
    },
    {
     "name": "stdout",
     "output_type": "stream",
     "text": [
      "{'map': tensor(0.8356), 'accuracy': tensor(0.8193), 'recall': tensor(0.9971)}\n",
      "tensor(58098., dtype=torch.float64) 16384\n"
     ]
    },
    {
     "name": "stderr",
     "output_type": "stream",
     "text": [
      "Train: step loss: 0.468, avg_loss: 0.462:  25%|██▍       | 301/1219 [06:45<18:02,  1.18s/it]"
     ]
    },
    {
     "name": "stdout",
     "output_type": "stream",
     "text": [
      "{'map': tensor(0.8359), 'accuracy': tensor(0.8194), 'recall': tensor(0.9972)}\n",
      "tensor(57959.5000, dtype=torch.float64) 16384\n"
     ]
    },
    {
     "name": "stderr",
     "output_type": "stream",
     "text": [
      "Train: step loss: 0.456, avg_loss: 0.462:  33%|███▎      | 401/1219 [08:38<15:55,  1.17s/it]"
     ]
    },
    {
     "name": "stdout",
     "output_type": "stream",
     "text": [
      "{'map': tensor(0.8362), 'accuracy': tensor(0.8195), 'recall': tensor(0.9972)}\n",
      "tensor(57979.5000, dtype=torch.float64) 16384\n"
     ]
    },
    {
     "name": "stderr",
     "output_type": "stream",
     "text": [
      "Train: step loss: 0.465, avg_loss: 0.462:  41%|████      | 501/1219 [10:30<12:32,  1.05s/it]"
     ]
    },
    {
     "name": "stdout",
     "output_type": "stream",
     "text": [
      "{'map': tensor(0.8364), 'accuracy': tensor(0.8196), 'recall': tensor(0.9973)}\n",
      "tensor(58072., dtype=torch.float64) 16384\n"
     ]
    },
    {
     "name": "stderr",
     "output_type": "stream",
     "text": [
      "Train: step loss: 0.459, avg_loss: 0.462:  49%|████▉     | 601/1219 [12:27<12:19,  1.20s/it]"
     ]
    },
    {
     "name": "stdout",
     "output_type": "stream",
     "text": [
      "{'map': tensor(0.8367), 'accuracy': tensor(0.8197), 'recall': tensor(0.9973)}\n",
      "tensor(58150., dtype=torch.float64) 16384\n"
     ]
    },
    {
     "name": "stderr",
     "output_type": "stream",
     "text": [
      "Train: step loss: 0.465, avg_loss: 0.461:  58%|█████▊    | 701/1219 [14:22<10:02,  1.16s/it]"
     ]
    },
    {
     "name": "stdout",
     "output_type": "stream",
     "text": [
      "{'map': tensor(0.8369), 'accuracy': tensor(0.8198), 'recall': tensor(0.9974)}\n",
      "tensor(58044.5000, dtype=torch.float64) 16384\n"
     ]
    },
    {
     "name": "stderr",
     "output_type": "stream",
     "text": [
      "Train: step loss: 0.466, avg_loss: 0.461:  66%|██████▌   | 801/1219 [16:15<07:20,  1.05s/it]"
     ]
    },
    {
     "name": "stdout",
     "output_type": "stream",
     "text": [
      "{'map': tensor(0.8372), 'accuracy': tensor(0.8199), 'recall': tensor(0.9974)}\n",
      "tensor(57999.5000, dtype=torch.float64) 16384\n"
     ]
    },
    {
     "name": "stderr",
     "output_type": "stream",
     "text": [
      "Train: step loss: 0.450, avg_loss: 0.461:  74%|███████▍  | 901/1219 [18:09<06:21,  1.20s/it]"
     ]
    },
    {
     "name": "stdout",
     "output_type": "stream",
     "text": [
      "{'map': tensor(0.8375), 'accuracy': tensor(0.8200), 'recall': tensor(0.9975)}\n",
      "tensor(58275., dtype=torch.float64) 16384\n"
     ]
    },
    {
     "name": "stderr",
     "output_type": "stream",
     "text": [
      "Train: step loss: 0.459, avg_loss: 0.461:  82%|████████▏ | 1001/1219 [20:02<03:57,  1.09s/it]"
     ]
    },
    {
     "name": "stdout",
     "output_type": "stream",
     "text": [
      "{'map': tensor(0.8377), 'accuracy': tensor(0.8201), 'recall': tensor(0.9975)}\n",
      "tensor(58114., dtype=torch.float64) 16384\n"
     ]
    },
    {
     "name": "stderr",
     "output_type": "stream",
     "text": [
      "Train: step loss: 0.461, avg_loss: 0.461:  90%|█████████ | 1101/1219 [21:55<02:18,  1.17s/it]"
     ]
    },
    {
     "name": "stdout",
     "output_type": "stream",
     "text": [
      "{'map': tensor(0.8380), 'accuracy': tensor(0.8202), 'recall': tensor(0.9976)}\n",
      "tensor(58189.5000, dtype=torch.float64) 16384\n"
     ]
    },
    {
     "name": "stderr",
     "output_type": "stream",
     "text": [
      "Train: step loss: 0.461, avg_loss: 0.461:  99%|█████████▊| 1201/1219 [23:58<00:24,  1.38s/it]"
     ]
    },
    {
     "name": "stdout",
     "output_type": "stream",
     "text": [
      "{'map': tensor(0.8382), 'accuracy': tensor(0.8203), 'recall': tensor(0.9976)}\n",
      "tensor(58146., dtype=torch.float64) 16384\n"
     ]
    },
    {
     "name": "stderr",
     "output_type": "stream",
     "text": [
      "Train: step loss: 0.461, avg_loss: 0.461: 100%|██████████| 1219/1219 [24:28<00:00,  1.20s/it]\n",
      "Eval: step loss: 0.494, avg_loss: 0.490:  33%|███▎      | 101/308 [02:07<03:55,  1.14s/it]"
     ]
    },
    {
     "name": "stdout",
     "output_type": "stream",
     "text": [
      "{'map': tensor(0.8381), 'accuracy': tensor(0.8200), 'recall': tensor(0.9977)}\n",
      "tensor(56781.5000, dtype=torch.float64) 16384\n"
     ]
    },
    {
     "name": "stderr",
     "output_type": "stream",
     "text": [
      "Eval: step loss: 0.484, avg_loss: 0.489:  65%|██████▌   | 201/308 [03:57<01:59,  1.12s/it]"
     ]
    },
    {
     "name": "stdout",
     "output_type": "stream",
     "text": [
      "{'map': tensor(0.8380), 'accuracy': tensor(0.8198), 'recall': tensor(0.9977)}\n",
      "tensor(57226., dtype=torch.float64) 16384\n"
     ]
    },
    {
     "name": "stderr",
     "output_type": "stream",
     "text": [
      "Eval: step loss: 0.488, avg_loss: 0.489:  98%|█████████▊| 301/308 [05:48<00:08,  1.15s/it]"
     ]
    },
    {
     "name": "stdout",
     "output_type": "stream",
     "text": [
      "{'map': tensor(0.8378), 'accuracy': tensor(0.8196), 'recall': tensor(0.9977)}\n",
      "tensor(56937., dtype=torch.float64) 16384\n"
     ]
    },
    {
     "name": "stderr",
     "output_type": "stream",
     "text": [
      "Eval: step loss: 0.476, avg_loss: 0.489: 100%|██████████| 308/308 [05:59<00:00,  1.17s/it]\n"
     ]
    },
    {
     "name": "stdout",
     "output_type": "stream",
     "text": [
      "{'loss': 0.4892668734703745, 'mode': 'Eval'}\n",
      "EPOCH: 5\n"
     ]
    },
    {
     "name": "stderr",
     "output_type": "stream",
     "text": [
      "Train: step loss: 0.467, avg_loss: 0.461:   8%|▊         | 101/1219 [01:58<21:44,  1.17s/it]"
     ]
    },
    {
     "name": "stdout",
     "output_type": "stream",
     "text": [
      "{'map': tensor(0.8381), 'accuracy': tensor(0.8197), 'recall': tensor(0.9978)}\n",
      "tensor(57876.5000, dtype=torch.float64) 16384\n"
     ]
    },
    {
     "name": "stderr",
     "output_type": "stream",
     "text": [
      "Train: step loss: 0.459, avg_loss: 0.460:  16%|█▋        | 201/1219 [03:52<19:06,  1.13s/it]"
     ]
    },
    {
     "name": "stdout",
     "output_type": "stream",
     "text": [
      "{'map': tensor(0.8383), 'accuracy': tensor(0.8198), 'recall': tensor(0.9978)}\n",
      "tensor(58305.5000, dtype=torch.float64) 16384\n"
     ]
    },
    {
     "name": "stderr",
     "output_type": "stream",
     "text": [
      "Train: step loss: 0.456, avg_loss: 0.461:  25%|██▍       | 301/1219 [05:46<16:41,  1.09s/it]"
     ]
    },
    {
     "name": "stdout",
     "output_type": "stream",
     "text": [
      "{'map': tensor(0.8385), 'accuracy': tensor(0.8198), 'recall': tensor(0.9978)}\n",
      "tensor(58308.5000, dtype=torch.float64) 16384\n"
     ]
    },
    {
     "name": "stderr",
     "output_type": "stream",
     "text": [
      "Train: step loss: 0.460, avg_loss: 0.460:  33%|███▎      | 401/1219 [07:40<14:26,  1.06s/it]"
     ]
    },
    {
     "name": "stdout",
     "output_type": "stream",
     "text": [
      "{'map': tensor(0.8388), 'accuracy': tensor(0.8199), 'recall': tensor(0.9979)}\n",
      "tensor(58034.5000, dtype=torch.float64) 16384\n"
     ]
    },
    {
     "name": "stderr",
     "output_type": "stream",
     "text": [
      "Train: step loss: 0.457, avg_loss: 0.460:  41%|████      | 501/1219 [09:34<12:49,  1.07s/it]"
     ]
    },
    {
     "name": "stdout",
     "output_type": "stream",
     "text": [
      "{'map': tensor(0.8390), 'accuracy': tensor(0.8200), 'recall': tensor(0.9979)}\n",
      "tensor(58201.5000, dtype=torch.float64) 16384\n"
     ]
    },
    {
     "name": "stderr",
     "output_type": "stream",
     "text": [
      "Train: step loss: 0.459, avg_loss: 0.460:  49%|████▉     | 601/1219 [11:28<11:43,  1.14s/it]"
     ]
    },
    {
     "name": "stdout",
     "output_type": "stream",
     "text": [
      "{'map': tensor(0.8393), 'accuracy': tensor(0.8201), 'recall': tensor(0.9979)}\n",
      "tensor(57958.5000, dtype=torch.float64) 16384\n"
     ]
    },
    {
     "name": "stderr",
     "output_type": "stream",
     "text": [
      "Train: step loss: 0.462, avg_loss: 0.460:  58%|█████▊    | 701/1219 [14:49<21:11,  2.45s/it]"
     ]
    },
    {
     "name": "stdout",
     "output_type": "stream",
     "text": [
      "{'map': tensor(0.8395), 'accuracy': tensor(0.8201), 'recall': tensor(0.9980)}\n",
      "tensor(58122., dtype=torch.float64) 16384\n"
     ]
    },
    {
     "name": "stderr",
     "output_type": "stream",
     "text": [
      "Train: step loss: 0.466, avg_loss: 0.460:  66%|██████▌   | 801/1219 [18:16<14:32,  2.09s/it]"
     ]
    },
    {
     "name": "stdout",
     "output_type": "stream",
     "text": [
      "{'map': tensor(0.8397), 'accuracy': tensor(0.8202), 'recall': tensor(0.9980)}\n",
      "tensor(58113.5000, dtype=torch.float64) 16384\n"
     ]
    },
    {
     "name": "stderr",
     "output_type": "stream",
     "text": [
      "Train: step loss: 0.453, avg_loss: 0.460:  74%|███████▍  | 901/1219 [22:16<08:35,  1.62s/it]"
     ]
    },
    {
     "name": "stdout",
     "output_type": "stream",
     "text": [
      "{'map': tensor(0.8399), 'accuracy': tensor(0.8202), 'recall': tensor(0.9980)}\n",
      "tensor(58440.5000, dtype=torch.float64) 16384\n"
     ]
    },
    {
     "name": "stderr",
     "output_type": "stream",
     "text": [
      "Train: step loss: 0.458, avg_loss: 0.460:  82%|████████▏ | 1001/1219 [25:09<07:02,  1.94s/it]"
     ]
    },
    {
     "name": "stdout",
     "output_type": "stream",
     "text": [
      "{'map': tensor(0.8402), 'accuracy': tensor(0.8203), 'recall': tensor(0.9981)}\n",
      "tensor(58213., dtype=torch.float64) 16384\n"
     ]
    },
    {
     "name": "stderr",
     "output_type": "stream",
     "text": [
      "Train: step loss: 0.461, avg_loss: 0.460:  90%|█████████ | 1101/1219 [27:28<02:34,  1.31s/it]"
     ]
    },
    {
     "name": "stdout",
     "output_type": "stream",
     "text": [
      "{'map': tensor(0.8404), 'accuracy': tensor(0.8204), 'recall': tensor(0.9981)}\n",
      "tensor(58170.5000, dtype=torch.float64) 16384\n"
     ]
    },
    {
     "name": "stderr",
     "output_type": "stream",
     "text": [
      "Train: step loss: 0.455, avg_loss: 0.460:  99%|█████████▊| 1201/1219 [29:41<00:23,  1.29s/it]"
     ]
    },
    {
     "name": "stdout",
     "output_type": "stream",
     "text": [
      "{'map': tensor(0.8406), 'accuracy': tensor(0.8204), 'recall': tensor(0.9981)}\n",
      "tensor(58221.5000, dtype=torch.float64) 16384\n"
     ]
    },
    {
     "name": "stderr",
     "output_type": "stream",
     "text": [
      "Train: step loss: 0.454, avg_loss: 0.460: 100%|██████████| 1219/1219 [30:11<00:00,  1.49s/it]\n",
      "Eval: step loss: 0.491, avg_loss: 0.489:  33%|███▎      | 101/308 [02:14<04:25,  1.28s/it]"
     ]
    },
    {
     "name": "stdout",
     "output_type": "stream",
     "text": [
      "{'map': tensor(0.8405), 'accuracy': tensor(0.8203), 'recall': tensor(0.9981)}\n",
      "tensor(56809.5000, dtype=torch.float64) 16384\n"
     ]
    },
    {
     "name": "stderr",
     "output_type": "stream",
     "text": [
      "Eval: step loss: 0.488, avg_loss: 0.489:  65%|██████▌   | 201/308 [04:22<02:25,  1.36s/it]"
     ]
    },
    {
     "name": "stdout",
     "output_type": "stream",
     "text": [
      "{'map': tensor(0.8404), 'accuracy': tensor(0.8201), 'recall': tensor(0.9982)}\n",
      "tensor(56953.5000, dtype=torch.float64) 16384\n"
     ]
    },
    {
     "name": "stderr",
     "output_type": "stream",
     "text": [
      "Eval: step loss: 0.492, avg_loss: 0.488:  98%|█████████▊| 301/308 [06:35<00:09,  1.31s/it]"
     ]
    },
    {
     "name": "stdout",
     "output_type": "stream",
     "text": [
      "{'map': tensor(0.8403), 'accuracy': tensor(0.8199), 'recall': tensor(0.9982)}\n",
      "tensor(56835., dtype=torch.float64) 16384\n"
     ]
    },
    {
     "name": "stderr",
     "output_type": "stream",
     "text": [
      "Eval: step loss: 0.495, avg_loss: 0.488: 100%|██████████| 308/308 [06:47<00:00,  1.32s/it]"
     ]
    },
    {
     "name": "stdout",
     "output_type": "stream",
     "text": [
      "{'loss': 0.4884836112524008, 'mode': 'Eval'}\n"
     ]
    },
    {
     "name": "stderr",
     "output_type": "stream",
     "text": [
      "\n"
     ]
    }
   ],
   "source": [
    "trainer.fit()"
   ]
  },
  {
   "attachments": {},
   "cell_type": "markdown",
   "id": "035223c7",
   "metadata": {},
   "source": [
    "#### Evaluation Metric\n",
    "\n",
    "`{'map': tensor(0.8403), 'accuracy': tensor(0.8199), 'recall': tensor(0.9982)}`"
   ]
  },
  {
   "cell_type": "code",
   "execution_count": 139,
   "id": "f6bf3451",
   "metadata": {},
   "outputs": [],
   "source": [
    "torch.save(model.state_dict(), \"./checkpoint/baseline_chk_v1.pt\")"
   ]
  },
  {
   "cell_type": "code",
   "execution_count": 143,
   "id": "3d74ffc1",
   "metadata": {},
   "outputs": [
    {
     "data": {
      "text/plain": [
       "torch.Size([1, 1, 64])"
      ]
     },
     "execution_count": 143,
     "metadata": {},
     "output_type": "execute_result"
    }
   ],
   "source": [
    "model.item_tower({\"movieId\":torch.tensor([100]).view(1,1)})"
   ]
  },
  {
   "cell_type": "code",
   "execution_count": 144,
   "id": "06882e53",
   "metadata": {},
   "outputs": [
    {
     "data": {
      "text/plain": [
       "1"
      ]
     },
     "execution_count": 144,
     "metadata": {},
     "output_type": "execute_result"
    }
   ],
   "source": [
    "#### Generate embeddings"
   ]
  },
  {
   "cell_type": "code",
   "execution_count": 159,
   "id": "881c8980",
   "metadata": {},
   "outputs": [],
   "source": [
    "import torch\n",
    "import pandas as pd"
   ]
  },
  {
   "cell_type": "code",
   "execution_count": 161,
   "metadata": {},
   "outputs": [
    {
     "data": {
      "text/plain": [
       "<All keys matched successfully>"
      ]
     },
     "execution_count": 161,
     "metadata": {},
     "output_type": "execute_result"
    }
   ],
   "source": [
    "model = CombinerTower(config)\n",
    "\n",
    "model.load_state_dict(torch.load(\"./checkpoint/baseline_chk_v1.pt\"))"
   ]
  },
  {
   "cell_type": "code",
   "execution_count": 162,
   "id": "4aa1c766",
   "metadata": {},
   "outputs": [],
   "source": [
    "movie_df = pd.read_csv(\"./data/ml-25m/movies.csv\")"
   ]
  },
  {
   "cell_type": "code",
   "execution_count": 163,
   "id": "20086f36",
   "metadata": {},
   "outputs": [
    {
     "data": {
      "text/html": [
       "<div>\n",
       "<style scoped>\n",
       "    .dataframe tbody tr th:only-of-type {\n",
       "        vertical-align: middle;\n",
       "    }\n",
       "\n",
       "    .dataframe tbody tr th {\n",
       "        vertical-align: top;\n",
       "    }\n",
       "\n",
       "    .dataframe thead th {\n",
       "        text-align: right;\n",
       "    }\n",
       "</style>\n",
       "<table border=\"1\" class=\"dataframe\">\n",
       "  <thead>\n",
       "    <tr style=\"text-align: right;\">\n",
       "      <th></th>\n",
       "      <th>movieId</th>\n",
       "      <th>title</th>\n",
       "      <th>genres</th>\n",
       "    </tr>\n",
       "  </thead>\n",
       "  <tbody>\n",
       "    <tr>\n",
       "      <th>0</th>\n",
       "      <td>1</td>\n",
       "      <td>Toy Story (1995)</td>\n",
       "      <td>Adventure|Animation|Children|Comedy|Fantasy</td>\n",
       "    </tr>\n",
       "    <tr>\n",
       "      <th>1</th>\n",
       "      <td>2</td>\n",
       "      <td>Jumanji (1995)</td>\n",
       "      <td>Adventure|Children|Fantasy</td>\n",
       "    </tr>\n",
       "    <tr>\n",
       "      <th>2</th>\n",
       "      <td>3</td>\n",
       "      <td>Grumpier Old Men (1995)</td>\n",
       "      <td>Comedy|Romance</td>\n",
       "    </tr>\n",
       "    <tr>\n",
       "      <th>3</th>\n",
       "      <td>4</td>\n",
       "      <td>Waiting to Exhale (1995)</td>\n",
       "      <td>Comedy|Drama|Romance</td>\n",
       "    </tr>\n",
       "    <tr>\n",
       "      <th>4</th>\n",
       "      <td>5</td>\n",
       "      <td>Father of the Bride Part II (1995)</td>\n",
       "      <td>Comedy</td>\n",
       "    </tr>\n",
       "  </tbody>\n",
       "</table>\n",
       "</div>"
      ],
      "text/plain": [
       "   movieId                               title   \n",
       "0        1                    Toy Story (1995)  \\\n",
       "1        2                      Jumanji (1995)   \n",
       "2        3             Grumpier Old Men (1995)   \n",
       "3        4            Waiting to Exhale (1995)   \n",
       "4        5  Father of the Bride Part II (1995)   \n",
       "\n",
       "                                        genres  \n",
       "0  Adventure|Animation|Children|Comedy|Fantasy  \n",
       "1                   Adventure|Children|Fantasy  \n",
       "2                               Comedy|Romance  \n",
       "3                         Comedy|Drama|Romance  \n",
       "4                                       Comedy  "
      ]
     },
     "execution_count": 163,
     "metadata": {},
     "output_type": "execute_result"
    }
   ],
   "source": [
    "movie_df.head()"
   ]
  },
  {
   "cell_type": "code",
   "execution_count": 164,
   "id": "b9fad5ad",
   "metadata": {},
   "outputs": [
    {
     "data": {
      "text/plain": [
       "(62423, 3)"
      ]
     },
     "execution_count": 164,
     "metadata": {},
     "output_type": "execute_result"
    }
   ],
   "source": [
    "movie_df.shape"
   ]
  },
  {
   "cell_type": "code",
   "execution_count": null,
   "id": "4738ae93",
   "metadata": {},
   "outputs": [],
   "source": []
  },
  {
   "cell_type": "code",
   "execution_count": 169,
   "id": "90e6bf96",
   "metadata": {},
   "outputs": [],
   "source": [
    "emb_dim = 64\n",
    "with torch.no_grad():\n",
    "    movie_df['embedding'] = movie_df['movieId'].map(lambda x: model.item_tower({\"movieId\": torch.tensor([x])}).view(emb_dim))"
   ]
  },
  {
   "cell_type": "code",
   "execution_count": 177,
   "id": "7099713c",
   "metadata": {},
   "outputs": [],
   "source": [
    "emb = torch.stack(movie_df['embedding'].values.tolist(), axis=0)"
   ]
  },
  {
   "cell_type": "code",
   "execution_count": 184,
   "id": "704206c5",
   "metadata": {},
   "outputs": [],
   "source": [
    "emb = emb/(emb.norm(dim=1).view(-1,1) + 1e-7)"
   ]
  },
  {
   "cell_type": "code",
   "execution_count": 190,
   "id": "326db882",
   "metadata": {},
   "outputs": [],
   "source": [
    "movie_df['norm_embedding'] = emb.unbind(dim=0)"
   ]
  },
  {
   "cell_type": "code",
   "execution_count": 191,
   "id": "6dedff4d",
   "metadata": {},
   "outputs": [
    {
     "data": {
      "text/html": [
       "<div>\n",
       "<style scoped>\n",
       "    .dataframe tbody tr th:only-of-type {\n",
       "        vertical-align: middle;\n",
       "    }\n",
       "\n",
       "    .dataframe tbody tr th {\n",
       "        vertical-align: top;\n",
       "    }\n",
       "\n",
       "    .dataframe thead th {\n",
       "        text-align: right;\n",
       "    }\n",
       "</style>\n",
       "<table border=\"1\" class=\"dataframe\">\n",
       "  <thead>\n",
       "    <tr style=\"text-align: right;\">\n",
       "      <th></th>\n",
       "      <th>movieId</th>\n",
       "      <th>title</th>\n",
       "      <th>genres</th>\n",
       "      <th>embedding</th>\n",
       "      <th>norm_embedding</th>\n",
       "    </tr>\n",
       "  </thead>\n",
       "  <tbody>\n",
       "    <tr>\n",
       "      <th>0</th>\n",
       "      <td>1</td>\n",
       "      <td>Toy Story (1995)</td>\n",
       "      <td>Adventure|Animation|Children|Comedy|Fantasy</td>\n",
       "      <td>[tensor(-0.6897), tensor(1.1606), tensor(0.659...</td>\n",
       "      <td>[tensor(-0.0859), tensor(0.1445), tensor(0.082...</td>\n",
       "    </tr>\n",
       "    <tr>\n",
       "      <th>1</th>\n",
       "      <td>2</td>\n",
       "      <td>Jumanji (1995)</td>\n",
       "      <td>Adventure|Children|Fantasy</td>\n",
       "      <td>[tensor(-0.8724), tensor(0.3376), tensor(1.183...</td>\n",
       "      <td>[tensor(-0.1086), tensor(0.0420), tensor(0.147...</td>\n",
       "    </tr>\n",
       "    <tr>\n",
       "      <th>2</th>\n",
       "      <td>3</td>\n",
       "      <td>Grumpier Old Men (1995)</td>\n",
       "      <td>Comedy|Romance</td>\n",
       "      <td>[tensor(-0.6817), tensor(-0.0421), tensor(-0.7...</td>\n",
       "      <td>[tensor(-0.0848), tensor(-0.0052), tensor(-0.0...</td>\n",
       "    </tr>\n",
       "    <tr>\n",
       "      <th>3</th>\n",
       "      <td>4</td>\n",
       "      <td>Waiting to Exhale (1995)</td>\n",
       "      <td>Comedy|Drama|Romance</td>\n",
       "      <td>[tensor(-0.6069), tensor(-0.3672), tensor(-0.6...</td>\n",
       "      <td>[tensor(-0.0757), tensor(-0.0458), tensor(-0.0...</td>\n",
       "    </tr>\n",
       "    <tr>\n",
       "      <th>4</th>\n",
       "      <td>5</td>\n",
       "      <td>Father of the Bride Part II (1995)</td>\n",
       "      <td>Comedy</td>\n",
       "      <td>[tensor(-0.7473), tensor(-0.8992), tensor(2.59...</td>\n",
       "      <td>[tensor(-0.0932), tensor(-0.1122), tensor(0.32...</td>\n",
       "    </tr>\n",
       "  </tbody>\n",
       "</table>\n",
       "</div>"
      ],
      "text/plain": [
       "   movieId                               title   \n",
       "0        1                    Toy Story (1995)  \\\n",
       "1        2                      Jumanji (1995)   \n",
       "2        3             Grumpier Old Men (1995)   \n",
       "3        4            Waiting to Exhale (1995)   \n",
       "4        5  Father of the Bride Part II (1995)   \n",
       "\n",
       "                                        genres   \n",
       "0  Adventure|Animation|Children|Comedy|Fantasy  \\\n",
       "1                   Adventure|Children|Fantasy   \n",
       "2                               Comedy|Romance   \n",
       "3                         Comedy|Drama|Romance   \n",
       "4                                       Comedy   \n",
       "\n",
       "                                           embedding   \n",
       "0  [tensor(-0.6897), tensor(1.1606), tensor(0.659...  \\\n",
       "1  [tensor(-0.8724), tensor(0.3376), tensor(1.183...   \n",
       "2  [tensor(-0.6817), tensor(-0.0421), tensor(-0.7...   \n",
       "3  [tensor(-0.6069), tensor(-0.3672), tensor(-0.6...   \n",
       "4  [tensor(-0.7473), tensor(-0.8992), tensor(2.59...   \n",
       "\n",
       "                                      norm_embedding  \n",
       "0  [tensor(-0.0859), tensor(0.1445), tensor(0.082...  \n",
       "1  [tensor(-0.1086), tensor(0.0420), tensor(0.147...  \n",
       "2  [tensor(-0.0848), tensor(-0.0052), tensor(-0.0...  \n",
       "3  [tensor(-0.0757), tensor(-0.0458), tensor(-0.0...  \n",
       "4  [tensor(-0.0932), tensor(-0.1122), tensor(0.32...  "
      ]
     },
     "execution_count": 191,
     "metadata": {},
     "output_type": "execute_result"
    }
   ],
   "source": [
    "movie_df.head()"
   ]
  },
  {
   "cell_type": "code",
   "execution_count": 222,
   "id": "ae5c7bc0",
   "metadata": {},
   "outputs": [],
   "source": [
    "import random"
   ]
  },
  {
   "cell_type": "code",
   "execution_count": 224,
   "id": "11429634",
   "metadata": {},
   "outputs": [
    {
     "data": {
      "text/plain": [
       "25478"
      ]
     },
     "execution_count": 224,
     "metadata": {},
     "output_type": "execute_result"
    }
   ],
   "source": []
  },
  {
   "cell_type": "code",
   "execution_count": 264,
   "id": "2db74773",
   "metadata": {},
   "outputs": [],
   "source": [
    "def get_similar(movie_df, movie_id=None, k=20):\n",
    "    if movie_id is None:\n",
    "        movie_id = np.random.randint(1, movie_df.shape[0])        \n",
    "    query = movie_df[movie_df['movieId'] == movie_id].iloc[0]\n",
    "    query_emb = query['norm_embedding']\n",
    "    sim_scores = (emb @ query_emb.view(1,-1).T)\n",
    "    sorted_idx = torch.argsort(sim_scores.view(-1),descending=True)\n",
    "    top_k_idx = sorted_idx[1:k+1]\n",
    "    res = movie_df.iloc[top_k_idx]\n",
    "    titles = res['title'].values\n",
    "    genres = res['genres'].values\n",
    "    scores = sim_scores[top_k_idx]\n",
    "    return {\n",
    "        \"query\": query[['movieId', 'title', 'genres']].to_dict(),\n",
    "        'result': [[t,g,s] for t,g,s in zip(titles, genres, scores)]\n",
    "    }"
   ]
  },
  {
   "cell_type": "code",
   "execution_count": 265,
   "id": "93083abb",
   "metadata": {},
   "outputs": [
    {
     "data": {
      "text/plain": [
       "{'query': {'movieId': 192389,\n",
       "  'title': 'Venom (2018)',\n",
       "  'genres': 'Action|Horror|Sci-Fi|Thriller'},\n",
       " 'result': [['Cynthia (1947)', 'Comedy|Drama', tensor([0.6378])],\n",
       "  ['The Sandpit Generals (1971)', '(no genres listed)', tensor([0.6098])],\n",
       "  ['Mask of Dust (1954)', 'Drama', tensor([0.6071])],\n",
       "  ['Twist Around The Clock (1961)', '(no genres listed)', tensor([0.6045])],\n",
       "  ['Claudine (1974)', 'Drama', tensor([0.6001])],\n",
       "  ['Second Fiddle to a Steel Guitar (1966)', 'Comedy', tensor([0.5996])],\n",
       "  [\"The Last Sharknado: It's About Time (2018)\",\n",
       "   'Action|Adventure|Comedy|Fantasy|Sci-Fi|Thriller',\n",
       "   tensor([0.5921])],\n",
       "  ['Reivers, The (1969)', 'Comedy|Drama', tensor([0.5906])],\n",
       "  ['Rack, The (1956)', 'Drama|War', tensor([0.5825])],\n",
       "  ['Wonderful Days (a.k.a. Sky Blue) (2003)',\n",
       "   'Animation|Sci-Fi',\n",
       "   tensor([0.5800])]]}"
      ]
     },
     "execution_count": 265,
     "metadata": {},
     "output_type": "execute_result"
    }
   ],
   "source": [
    "get_similar(movie_df, movie_id=192389, k=10)"
   ]
  },
  {
   "cell_type": "code",
   "execution_count": 263,
   "id": "f3d7014c",
   "metadata": {},
   "outputs": [
    {
     "data": {
      "text/plain": [
       "movieId                                                      192389\n",
       "title                                                  Venom (2018)\n",
       "genres                                Action|Horror|Sci-Fi|Thriller\n",
       "embedding         [tensor(0.5151), tensor(-0.9153), tensor(-0.55...\n",
       "norm_embedding    [tensor(0.0641), tensor(-0.1138), tensor(-0.06...\n",
       "Name: 55643, dtype: object"
      ]
     },
     "execution_count": 263,
     "metadata": {},
     "output_type": "execute_result"
    }
   ],
   "source": [
    "movie_df.iloc[55643]"
   ]
  },
  {
   "cell_type": "code",
   "execution_count": 260,
   "id": "0be3c13b",
   "metadata": {},
   "outputs": [
    {
     "data": {
      "text/html": [
       "<div>\n",
       "<style scoped>\n",
       "    .dataframe tbody tr th:only-of-type {\n",
       "        vertical-align: middle;\n",
       "    }\n",
       "\n",
       "    .dataframe tbody tr th {\n",
       "        vertical-align: top;\n",
       "    }\n",
       "\n",
       "    .dataframe thead th {\n",
       "        text-align: right;\n",
       "    }\n",
       "</style>\n",
       "<table border=\"1\" class=\"dataframe\">\n",
       "  <thead>\n",
       "    <tr style=\"text-align: right;\">\n",
       "      <th></th>\n",
       "      <th>movieId</th>\n",
       "      <th>title</th>\n",
       "      <th>genres</th>\n",
       "      <th>embedding</th>\n",
       "      <th>norm_embedding</th>\n",
       "    </tr>\n",
       "  </thead>\n",
       "  <tbody>\n",
       "    <tr>\n",
       "      <th>6033</th>\n",
       "      <td>6145</td>\n",
       "      <td>Venom (1982)</td>\n",
       "      <td>Horror|Thriller</td>\n",
       "      <td>[tensor(1.1496), tensor(-0.7547), tensor(-0.71...</td>\n",
       "      <td>[tensor(0.1434), tensor(-0.0941), tensor(-0.08...</td>\n",
       "    </tr>\n",
       "    <tr>\n",
       "      <th>8790</th>\n",
       "      <td>26399</td>\n",
       "      <td>Five Deadly Venoms (1978)</td>\n",
       "      <td>Action</td>\n",
       "      <td>[tensor(-0.0652), tensor(-0.6690), tensor(-0.4...</td>\n",
       "      <td>[tensor(-0.0081), tensor(-0.0835), tensor(-0.0...</td>\n",
       "    </tr>\n",
       "    <tr>\n",
       "      <th>10205</th>\n",
       "      <td>36531</td>\n",
       "      <td>Venom (2005)</td>\n",
       "      <td>Horror|Thriller</td>\n",
       "      <td>[tensor(-0.0295), tensor(-0.4241), tensor(1.43...</td>\n",
       "      <td>[tensor(-0.0037), tensor(-0.0528), tensor(0.17...</td>\n",
       "    </tr>\n",
       "    <tr>\n",
       "      <th>22599</th>\n",
       "      <td>115727</td>\n",
       "      <td>Crippled Avengers (Can que) (Return of the 5 D...</td>\n",
       "      <td>Action|Adventure</td>\n",
       "      <td>[tensor(0.3127), tensor(-0.1394), tensor(-0.73...</td>\n",
       "      <td>[tensor(0.0389), tensor(-0.0173), tensor(-0.09...</td>\n",
       "    </tr>\n",
       "    <tr>\n",
       "      <th>32508</th>\n",
       "      <td>141070</td>\n",
       "      <td>Venom (1966)</td>\n",
       "      <td>Drama</td>\n",
       "      <td>[tensor(2.8667), tensor(0.3400), tensor(1.6905...</td>\n",
       "      <td>[tensor(0.3571), tensor(0.0424), tensor(0.2106...</td>\n",
       "    </tr>\n",
       "    <tr>\n",
       "      <th>37355</th>\n",
       "      <td>152467</td>\n",
       "      <td>Venomous (2002)</td>\n",
       "      <td>Horror|Sci-Fi</td>\n",
       "      <td>[tensor(-0.9478), tensor(-1.0008), tensor(1.29...</td>\n",
       "      <td>[tensor(-0.1186), tensor(-0.1252), tensor(0.16...</td>\n",
       "    </tr>\n",
       "    <tr>\n",
       "      <th>37357</th>\n",
       "      <td>152471</td>\n",
       "      <td>Silent Venom (2009)</td>\n",
       "      <td>Action|Adventure|Horror|Thriller</td>\n",
       "      <td>[tensor(-0.9665), tensor(1.5667), tensor(0.971...</td>\n",
       "      <td>[tensor(-0.1205), tensor(0.1954), tensor(0.121...</td>\n",
       "    </tr>\n",
       "    <tr>\n",
       "      <th>55072</th>\n",
       "      <td>191077</td>\n",
       "      <td>Venom and Eternity (1951)</td>\n",
       "      <td>(no genres listed)</td>\n",
       "      <td>[tensor(0.8810), tensor(0.1856), tensor(0.1019...</td>\n",
       "      <td>[tensor(0.1101), tensor(0.0232), tensor(0.0127...</td>\n",
       "    </tr>\n",
       "    <tr>\n",
       "      <th>55643</th>\n",
       "      <td>192389</td>\n",
       "      <td>Venom (2018)</td>\n",
       "      <td>Action|Horror|Sci-Fi|Thriller</td>\n",
       "      <td>[tensor(0.5151), tensor(-0.9153), tensor(-0.55...</td>\n",
       "      <td>[tensor(0.0641), tensor(-0.1138), tensor(-0.06...</td>\n",
       "    </tr>\n",
       "    <tr>\n",
       "      <th>56211</th>\n",
       "      <td>193669</td>\n",
       "      <td>Venom Islands (2012)</td>\n",
       "      <td>Documentary</td>\n",
       "      <td>[tensor(-0.0993), tensor(-0.6386), tensor(-0.4...</td>\n",
       "      <td>[tensor(-0.0124), tensor(-0.0797), tensor(-0.0...</td>\n",
       "    </tr>\n",
       "  </tbody>\n",
       "</table>\n",
       "</div>"
      ],
      "text/plain": [
       "       movieId                                              title   \n",
       "6033      6145                                       Venom (1982)  \\\n",
       "8790     26399                          Five Deadly Venoms (1978)   \n",
       "10205    36531                                       Venom (2005)   \n",
       "22599   115727  Crippled Avengers (Can que) (Return of the 5 D...   \n",
       "32508   141070                                       Venom (1966)   \n",
       "37355   152467                                    Venomous (2002)   \n",
       "37357   152471                                Silent Venom (2009)   \n",
       "55072   191077                          Venom and Eternity (1951)   \n",
       "55643   192389                                       Venom (2018)   \n",
       "56211   193669                               Venom Islands (2012)   \n",
       "\n",
       "                                 genres   \n",
       "6033                    Horror|Thriller  \\\n",
       "8790                             Action   \n",
       "10205                   Horror|Thriller   \n",
       "22599                  Action|Adventure   \n",
       "32508                             Drama   \n",
       "37355                     Horror|Sci-Fi   \n",
       "37357  Action|Adventure|Horror|Thriller   \n",
       "55072                (no genres listed)   \n",
       "55643     Action|Horror|Sci-Fi|Thriller   \n",
       "56211                       Documentary   \n",
       "\n",
       "                                               embedding   \n",
       "6033   [tensor(1.1496), tensor(-0.7547), tensor(-0.71...  \\\n",
       "8790   [tensor(-0.0652), tensor(-0.6690), tensor(-0.4...   \n",
       "10205  [tensor(-0.0295), tensor(-0.4241), tensor(1.43...   \n",
       "22599  [tensor(0.3127), tensor(-0.1394), tensor(-0.73...   \n",
       "32508  [tensor(2.8667), tensor(0.3400), tensor(1.6905...   \n",
       "37355  [tensor(-0.9478), tensor(-1.0008), tensor(1.29...   \n",
       "37357  [tensor(-0.9665), tensor(1.5667), tensor(0.971...   \n",
       "55072  [tensor(0.8810), tensor(0.1856), tensor(0.1019...   \n",
       "55643  [tensor(0.5151), tensor(-0.9153), tensor(-0.55...   \n",
       "56211  [tensor(-0.0993), tensor(-0.6386), tensor(-0.4...   \n",
       "\n",
       "                                          norm_embedding  \n",
       "6033   [tensor(0.1434), tensor(-0.0941), tensor(-0.08...  \n",
       "8790   [tensor(-0.0081), tensor(-0.0835), tensor(-0.0...  \n",
       "10205  [tensor(-0.0037), tensor(-0.0528), tensor(0.17...  \n",
       "22599  [tensor(0.0389), tensor(-0.0173), tensor(-0.09...  \n",
       "32508  [tensor(0.3571), tensor(0.0424), tensor(0.2106...  \n",
       "37355  [tensor(-0.1186), tensor(-0.1252), tensor(0.16...  \n",
       "37357  [tensor(-0.1205), tensor(0.1954), tensor(0.121...  \n",
       "55072  [tensor(0.1101), tensor(0.0232), tensor(0.0127...  \n",
       "55643  [tensor(0.0641), tensor(-0.1138), tensor(-0.06...  \n",
       "56211  [tensor(-0.0124), tensor(-0.0797), tensor(-0.0...  "
      ]
     },
     "execution_count": 260,
     "metadata": {},
     "output_type": "execute_result"
    }
   ],
   "source": [
    "movie_df[movie_df['title'].map(lambda x: \"venom\" in x.lower())]"
   ]
  }
 ],
 "metadata": {
  "kernelspec": {
   "display_name": "dev",
   "language": "python",
   "name": "python3"
  },
  "language_info": {
   "codemirror_mode": {
    "name": "ipython",
    "version": 3
   },
   "file_extension": ".py",
   "mimetype": "text/x-python",
   "name": "python",
   "nbconvert_exporter": "python",
   "pygments_lexer": "ipython3",
   "version": "3.9.16"
  }
 },
 "nbformat": 4,
 "nbformat_minor": 5
}
