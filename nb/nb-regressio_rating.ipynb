{
 "cells": [
  {
   "cell_type": "code",
   "execution_count": 1,
   "id": "287ac952-8d27-4006-96d0-c30cea58496e",
   "metadata": {},
   "outputs": [],
   "source": [
    "import pandas as pd\n",
    "import numpy as np\n",
    "\n",
    "import torch\n",
    "import torch.nn as nn\n",
    "import torch.nn.functional as F"
   ]
  },
  {
   "cell_type": "code",
   "execution_count": 2,
   "id": "784e06df-cf42-4cb9-8c26-ce551b7dd163",
   "metadata": {},
   "outputs": [
    {
     "data": {
      "text/html": [
       "<div>\n",
       "<style scoped>\n",
       "    .dataframe tbody tr th:only-of-type {\n",
       "        vertical-align: middle;\n",
       "    }\n",
       "\n",
       "    .dataframe tbody tr th {\n",
       "        vertical-align: top;\n",
       "    }\n",
       "\n",
       "    .dataframe thead th {\n",
       "        text-align: right;\n",
       "    }\n",
       "</style>\n",
       "<table border=\"1\" class=\"dataframe\">\n",
       "  <thead>\n",
       "    <tr style=\"text-align: right;\">\n",
       "      <th></th>\n",
       "      <th>userId</th>\n",
       "      <th>movieId</th>\n",
       "      <th>rating</th>\n",
       "      <th>timestamp</th>\n",
       "    </tr>\n",
       "  </thead>\n",
       "  <tbody>\n",
       "    <tr>\n",
       "      <th>0</th>\n",
       "      <td>1</td>\n",
       "      <td>296</td>\n",
       "      <td>5.0</td>\n",
       "      <td>1147880044</td>\n",
       "    </tr>\n",
       "    <tr>\n",
       "      <th>1</th>\n",
       "      <td>1</td>\n",
       "      <td>306</td>\n",
       "      <td>3.5</td>\n",
       "      <td>1147868817</td>\n",
       "    </tr>\n",
       "    <tr>\n",
       "      <th>2</th>\n",
       "      <td>1</td>\n",
       "      <td>307</td>\n",
       "      <td>5.0</td>\n",
       "      <td>1147868828</td>\n",
       "    </tr>\n",
       "    <tr>\n",
       "      <th>3</th>\n",
       "      <td>1</td>\n",
       "      <td>665</td>\n",
       "      <td>5.0</td>\n",
       "      <td>1147878820</td>\n",
       "    </tr>\n",
       "    <tr>\n",
       "      <th>4</th>\n",
       "      <td>1</td>\n",
       "      <td>899</td>\n",
       "      <td>3.5</td>\n",
       "      <td>1147868510</td>\n",
       "    </tr>\n",
       "  </tbody>\n",
       "</table>\n",
       "</div>"
      ],
      "text/plain": [
       "   userId  movieId  rating   timestamp\n",
       "0       1      296     5.0  1147880044\n",
       "1       1      306     3.5  1147868817\n",
       "2       1      307     5.0  1147868828\n",
       "3       1      665     5.0  1147878820\n",
       "4       1      899     3.5  1147868510"
      ]
     },
     "execution_count": 2,
     "metadata": {},
     "output_type": "execute_result"
    }
   ],
   "source": [
    "rating_df = pd.read_csv(\"data/ml-25m/ratings.csv\")\n",
    "rating_df.head()"
   ]
  },
  {
   "cell_type": "code",
   "execution_count": 3,
   "id": "e86b1717-3d9f-4c23-9f52-c69602f031be",
   "metadata": {},
   "outputs": [],
   "source": [
    "movies_df = pd.read_csv(\"data/ml-25m/movies.csv\")"
   ]
  },
  {
   "cell_type": "code",
   "execution_count": 4,
   "id": "3de7f83a-53f4-445e-b837-54da8be26e46",
   "metadata": {},
   "outputs": [
    {
     "data": {
      "text/html": [
       "<div>\n",
       "<style scoped>\n",
       "    .dataframe tbody tr th:only-of-type {\n",
       "        vertical-align: middle;\n",
       "    }\n",
       "\n",
       "    .dataframe tbody tr th {\n",
       "        vertical-align: top;\n",
       "    }\n",
       "\n",
       "    .dataframe thead th {\n",
       "        text-align: right;\n",
       "    }\n",
       "</style>\n",
       "<table border=\"1\" class=\"dataframe\">\n",
       "  <thead>\n",
       "    <tr style=\"text-align: right;\">\n",
       "      <th></th>\n",
       "      <th>movieId</th>\n",
       "      <th>title</th>\n",
       "      <th>genres</th>\n",
       "    </tr>\n",
       "  </thead>\n",
       "  <tbody>\n",
       "    <tr>\n",
       "      <th>0</th>\n",
       "      <td>1</td>\n",
       "      <td>Toy Story (1995)</td>\n",
       "      <td>Adventure|Animation|Children|Comedy|Fantasy</td>\n",
       "    </tr>\n",
       "    <tr>\n",
       "      <th>1</th>\n",
       "      <td>2</td>\n",
       "      <td>Jumanji (1995)</td>\n",
       "      <td>Adventure|Children|Fantasy</td>\n",
       "    </tr>\n",
       "    <tr>\n",
       "      <th>2</th>\n",
       "      <td>3</td>\n",
       "      <td>Grumpier Old Men (1995)</td>\n",
       "      <td>Comedy|Romance</td>\n",
       "    </tr>\n",
       "    <tr>\n",
       "      <th>3</th>\n",
       "      <td>4</td>\n",
       "      <td>Waiting to Exhale (1995)</td>\n",
       "      <td>Comedy|Drama|Romance</td>\n",
       "    </tr>\n",
       "    <tr>\n",
       "      <th>4</th>\n",
       "      <td>5</td>\n",
       "      <td>Father of the Bride Part II (1995)</td>\n",
       "      <td>Comedy</td>\n",
       "    </tr>\n",
       "  </tbody>\n",
       "</table>\n",
       "</div>"
      ],
      "text/plain": [
       "   movieId                               title   \n",
       "0        1                    Toy Story (1995)  \\\n",
       "1        2                      Jumanji (1995)   \n",
       "2        3             Grumpier Old Men (1995)   \n",
       "3        4            Waiting to Exhale (1995)   \n",
       "4        5  Father of the Bride Part II (1995)   \n",
       "\n",
       "                                        genres  \n",
       "0  Adventure|Animation|Children|Comedy|Fantasy  \n",
       "1                   Adventure|Children|Fantasy  \n",
       "2                               Comedy|Romance  \n",
       "3                         Comedy|Drama|Romance  \n",
       "4                                       Comedy  "
      ]
     },
     "execution_count": 4,
     "metadata": {},
     "output_type": "execute_result"
    }
   ],
   "source": [
    "movies_df.head()"
   ]
  },
  {
   "cell_type": "code",
   "execution_count": 5,
   "id": "135a0115-9d5d-46c7-aa22-552b4f3bc1f3",
   "metadata": {},
   "outputs": [],
   "source": [
    "no_items = movies_df['movieId'].max()"
   ]
  },
  {
   "cell_type": "code",
   "execution_count": 6,
   "id": "be42d712-6be1-4620-a4e9-0f32579166b3",
   "metadata": {},
   "outputs": [
    {
     "data": {
      "text/plain": [
       "(25000095, 4)"
      ]
     },
     "execution_count": 6,
     "metadata": {},
     "output_type": "execute_result"
    }
   ],
   "source": [
    "rating_df.shape"
   ]
  },
  {
   "cell_type": "code",
   "execution_count": 7,
   "id": "00dfe2b8-d85a-4f73-8bb2-51c99879080a",
   "metadata": {},
   "outputs": [],
   "source": [
    "no_users = rating_df['userId'].max()"
   ]
  },
  {
   "cell_type": "code",
   "execution_count": 8,
   "id": "12ad1739-69fd-4919-aea8-43c7a32b7d96",
   "metadata": {},
   "outputs": [],
   "source": [
    "# sort dataset by id and timestamp\n",
    "rating_df = rating_df.sort_values(['userId', 'timestamp'])"
   ]
  },
  {
   "cell_type": "code",
   "execution_count": 9,
   "id": "47ad2eb7-7f5c-4ffd-98a8-b3a7c45c13b0",
   "metadata": {},
   "outputs": [],
   "source": [
    "# split dataset in train and eval set"
   ]
  },
  {
   "cell_type": "code",
   "execution_count": 10,
   "id": "32335239-719e-4882-9b32-676272d42b4d",
   "metadata": {},
   "outputs": [],
   "source": [
    "def func1(df):\n",
    "    n_rows = df.shape[0]\n",
    "    df['percentile'] = np.linspace(0, 100, n_rows)\n",
    "    return df\n",
    "\n",
    "rating_df = rating_df.groupby('userId').apply(func1).reset_index(drop=True)"
   ]
  },
  {
   "cell_type": "code",
   "execution_count": 11,
   "id": "b98fbb0d-169e-4e10-833a-c64a4c8172ba",
   "metadata": {},
   "outputs": [],
   "source": [
    "train_size = 80 # percent\n",
    "train_data = rating_df[rating_df['percentile'] <= train_size]\n",
    "test_data = rating_df[rating_df['percentile'] > train_size]"
   ]
  },
  {
   "cell_type": "code",
   "execution_count": 12,
   "id": "5ff5b5c9-3e04-4f8f-a9d6-f1bca6bbf2b0",
   "metadata": {},
   "outputs": [
    {
     "data": {
      "text/plain": [
       "((19968907, 5), (5031188, 5))"
      ]
     },
     "execution_count": 12,
     "metadata": {},
     "output_type": "execute_result"
    }
   ],
   "source": [
    "train_data.shape, test_data.shape"
   ]
  },
  {
   "cell_type": "code",
   "execution_count": 13,
   "id": "8c33ddc3-a514-4b48-8d46-06b2c7d2adc2",
   "metadata": {},
   "outputs": [],
   "source": [
    "del train_data['percentile'], test_data['percentile']"
   ]
  },
  {
   "cell_type": "code",
   "execution_count": 14,
   "id": "79cedfda-a2fd-4458-baee-2e68664deac0",
   "metadata": {},
   "outputs": [
    {
     "data": {
      "text/html": [
       "<div>\n",
       "<style scoped>\n",
       "    .dataframe tbody tr th:only-of-type {\n",
       "        vertical-align: middle;\n",
       "    }\n",
       "\n",
       "    .dataframe tbody tr th {\n",
       "        vertical-align: top;\n",
       "    }\n",
       "\n",
       "    .dataframe thead th {\n",
       "        text-align: right;\n",
       "    }\n",
       "</style>\n",
       "<table border=\"1\" class=\"dataframe\">\n",
       "  <thead>\n",
       "    <tr style=\"text-align: right;\">\n",
       "      <th></th>\n",
       "      <th>userId</th>\n",
       "      <th>movieId</th>\n",
       "      <th>rating</th>\n",
       "      <th>timestamp</th>\n",
       "    </tr>\n",
       "  </thead>\n",
       "  <tbody>\n",
       "    <tr>\n",
       "      <th>0</th>\n",
       "      <td>1</td>\n",
       "      <td>5952</td>\n",
       "      <td>4.0</td>\n",
       "      <td>1147868053</td>\n",
       "    </tr>\n",
       "    <tr>\n",
       "      <th>1</th>\n",
       "      <td>1</td>\n",
       "      <td>2012</td>\n",
       "      <td>2.5</td>\n",
       "      <td>1147868068</td>\n",
       "    </tr>\n",
       "    <tr>\n",
       "      <th>2</th>\n",
       "      <td>1</td>\n",
       "      <td>2011</td>\n",
       "      <td>2.5</td>\n",
       "      <td>1147868079</td>\n",
       "    </tr>\n",
       "    <tr>\n",
       "      <th>3</th>\n",
       "      <td>1</td>\n",
       "      <td>1653</td>\n",
       "      <td>4.0</td>\n",
       "      <td>1147868097</td>\n",
       "    </tr>\n",
       "    <tr>\n",
       "      <th>4</th>\n",
       "      <td>1</td>\n",
       "      <td>1250</td>\n",
       "      <td>4.0</td>\n",
       "      <td>1147868414</td>\n",
       "    </tr>\n",
       "  </tbody>\n",
       "</table>\n",
       "</div>"
      ],
      "text/plain": [
       "   userId  movieId  rating   timestamp\n",
       "0       1     5952     4.0  1147868053\n",
       "1       1     2012     2.5  1147868068\n",
       "2       1     2011     2.5  1147868079\n",
       "3       1     1653     4.0  1147868097\n",
       "4       1     1250     4.0  1147868414"
      ]
     },
     "execution_count": 14,
     "metadata": {},
     "output_type": "execute_result"
    }
   ],
   "source": [
    "train_data.head()"
   ]
  },
  {
   "cell_type": "code",
   "execution_count": 15,
   "id": "771a9452-6a7f-46a1-a4b1-e3a779073e58",
   "metadata": {},
   "outputs": [
    {
     "data": {
      "text/plain": [
       "rating\n",
       "4.0    5346555\n",
       "3.0    3892905\n",
       "5.0    3006138\n",
       "3.5    2476949\n",
       "4.5    1743999\n",
       "2.0    1297363\n",
       "2.5     976141\n",
       "1.0     611705\n",
       "1.5     310786\n",
       "0.5     306366\n",
       "Name: count, dtype: int64"
      ]
     },
     "execution_count": 15,
     "metadata": {},
     "output_type": "execute_result"
    }
   ],
   "source": [
    "train_data['rating'].value_counts()"
   ]
  },
  {
   "cell_type": "code",
   "execution_count": 16,
   "id": "3f148c8b-b232-4a32-902f-f7ed49636cec",
   "metadata": {},
   "outputs": [],
   "source": [
    "# assuming rating more than 3 means user like the movie else he/she didn't\n",
    "rating_threshold = 3\n",
    "from data import Data\n",
    "from tqdm import tqdm"
   ]
  },
  {
   "cell_type": "code",
   "execution_count": 17,
   "id": "09c4fea8-95fc-408e-9c8a-913fef2f549e",
   "metadata": {},
   "outputs": [],
   "source": [
    "trainds = Data(train_data)\n",
    "testds = Data(test_data)"
   ]
  },
  {
   "cell_type": "code",
   "execution_count": 18,
   "id": "ee79241a-f611-40a8-a935-0dd6ec1962a1",
   "metadata": {},
   "outputs": [
    {
     "name": "stdout",
     "output_type": "stream",
     "text": [
      "16384\n"
     ]
    }
   ],
   "source": [
    "batch_size = 2**14\n",
    "n_workers = 4\n",
    "\n",
    "traindl = torch.utils.data.DataLoader(trainds, batch_size=batch_size, shuffle=True, num_workers=1)\n",
    "\n",
    "testdl = torch.utils.data.DataLoader(testds, batch_size=batch_size, shuffle=True, num_workers=1)\n",
    "print(batch_size)"
   ]
  },
  {
   "cell_type": "code",
   "execution_count": 19,
   "id": "4ca66e0c-c683-49a9-ba0b-763aa3f6a5a7",
   "metadata": {},
   "outputs": [],
   "source": [
    "item_feature_name = \"movieId\"\n",
    "user_feature_name = \"userId\"\n",
    "\n",
    "class ItemTower(nn.Module):\n",
    "    def __init__(self, config):\n",
    "        super().__init__()\n",
    "        self.features = config['item']['features']\n",
    "        if item_feature_name in self.features:\n",
    "            self.item_module = nn.Embedding(config['item']['n_items'], config['item']['emb'])\n",
    "        else:\n",
    "            self.item_module = nn.Identity()\n",
    "        self.mlp = nn.Sequential(\n",
    "            nn.Linear(config['item']['emb'], config['item']['emb']),\n",
    "            nn.GELU(),\n",
    "            nn.LayerNorm(config['item']['emb'])\n",
    "        )\n",
    "        \n",
    "    def forward(self, batch):\n",
    "        item_emb = self.item_module(batch[item_feature_name].long())\n",
    "        return self.mlp(item_emb)\n",
    "\n",
    "\n",
    "class UserTower(nn.Module):\n",
    "    def __init__(self,config):\n",
    "        super().__init__()\n",
    "        self.features = config['user']['features']\n",
    "        if user_feature_name in self.features:\n",
    "            self.user_module = nn.Embedding(config['user']['n_users'], config['user']['emb'])\n",
    "        else:\n",
    "            self.item_module = nn.Identity()\n",
    "        self.mlp = nn.Sequential(\n",
    "            nn.Linear(config['user']['emb'], config['user']['emb']),\n",
    "            nn.GELU(),\n",
    "            nn.LayerNorm(config['user']['emb'])\n",
    "        )\n",
    "        \n",
    "    def forward(self, batch):\n",
    "        user_emb = self.user_module(batch[user_feature_name].long())\n",
    "        return self.mlp(user_emb)\n",
    "\n",
    "class CombinerTower(nn.Module):\n",
    "    def __init__(self,config):\n",
    "        super().__init__()\n",
    "        self.item_tower = ItemTower(config)\n",
    "        self.user_tower = UserTower(config)\n",
    "        user_dim, item_dim = config['user']['emb'], config['item']['emb']\n",
    "        self.mlp = nn.Sequential(\n",
    "            nn.Linear(user_dim+item_dim, config['emb']),\n",
    "            nn.GELU(),\n",
    "            nn.LayerNorm(config['emb'])\n",
    "        )\n",
    "        self.tasks = nn.ModuleDict({\n",
    "            task_name: nn.Linear(config['emb'], out) for task_name, out in config['tasks']\n",
    "        })\n",
    "        \n",
    "    def forward(self, batch):\n",
    "        item_emb = self.item_tower(batch)\n",
    "        user_emb = self.user_tower(batch)\n",
    "        x = torch.concat([user_emb, item_emb], axis=1)\n",
    "        x = self.mlp(x)\n",
    "        res = {}\n",
    "        for task_name, mod in self.tasks.items():\n",
    "            res[task_name] = mod(x)\n",
    "        return res\n",
    "\n",
    "config = {\n",
    "    'user':{\n",
    "        'features':[\n",
    "            'userId'\n",
    "        ],\n",
    "        'n_users':no_users + 2**10,\n",
    "        'emb': 64\n",
    "    },\n",
    "    'item':{\n",
    "        'features':[\n",
    "            'movieId'\n",
    "        ],\n",
    "        'n_items':no_items + 2**10,\n",
    "        'emb': 64\n",
    "    },\n",
    "    'emb':64,\n",
    "    'tasks':[\n",
    "        ['rating', 1]\n",
    "    ]\n",
    "}"
   ]
  },
  {
   "cell_type": "code",
   "execution_count": 20,
   "id": "bb8dc5a0-6c0e-4a60-8951-9158bcf59fa0",
   "metadata": {},
   "outputs": [],
   "source": [
    "model = CombinerTower(config)"
   ]
  },
  {
   "cell_type": "code",
   "execution_count": 21,
   "id": "c26de5df",
   "metadata": {},
   "outputs": [],
   "source": [
    "import torchmetrics\n",
    "from torchmetrics.classification import average_precision, ROC, Recall, Accuracy"
   ]
  },
  {
   "cell_type": "code",
   "execution_count": 22,
   "id": "12887df0-b030-4d6f-a315-6feed8b0f77d",
   "metadata": {},
   "outputs": [],
   "source": [
    "class Metric:\n",
    "    def __init__(self, device=torch.device(\"cpu\"), task=\"binary\"):\n",
    "        device = device\n",
    "        self.counter = 0\n",
    "        self._metric = {\n",
    "            \"mse\": torchmetrics.functional.mean_squared_error,\n",
    "            \"r2_score\": torchmetrics.functional.r2_score\n",
    "            \n",
    "        }\n",
    "        self._accelerator = {\n",
    "            \"mse\": 0,\n",
    "            \"r2_score\": 0\n",
    "        }\n",
    "        \n",
    "    def __call__(self, output, actual) -> dict:\n",
    "        out = {}\n",
    "        for metric_name, mod in self._metric.items():\n",
    "            out[metric_name] = mod(output, actual)\n",
    "            self._accelerator[metric_name] += out[metric_name]\n",
    "        self.counter += 1\n",
    "        return out\n",
    "    \n",
    "    def get(self):\n",
    "        return {\n",
    "            k:v/self.counter for k,v in self._accelerator.items()\n",
    "        }\n",
    "\n",
    "    def to(self, device):\n",
    "        for i in self._metric:\n",
    "            if hasattr(self._metric[i], \"to\"):\n",
    "                self._metric[i].to(device)\n",
    "        return self"
   ]
  },
  {
   "cell_type": "code",
   "execution_count": 23,
   "id": "311a62d1",
   "metadata": {},
   "outputs": [
    {
     "name": "stdout",
     "output_type": "stream",
     "text": [
      "tensor([1, 0, 1, 0, 1, 0, 0, 0, 1, 0, 1, 1, 1, 0, 1, 0, 0, 1, 1, 1]) tensor([ 0.2168,  0.6964,  0.2561,  1.2451, -1.1166,  0.8830, -0.1210, -0.5632,\n",
      "         0.7163,  0.7436,  1.4557,  0.9875,  1.1642, -0.6338,  1.2480,  0.9197,\n",
      "        -0.0825,  0.5866, -1.5255, -0.3285])\n",
      "{'mse': tensor(0.9646), 'r2_score': tensor(-2.8973)}\n"
     ]
    },
    {
     "data": {
      "text/plain": [
       "{'mse': tensor(0.9646), 'r2_score': tensor(-2.8973)}"
      ]
     },
     "execution_count": 23,
     "metadata": {},
     "output_type": "execute_result"
    }
   ],
   "source": [
    "metric = Metric()\n",
    "output, actual = torch.randn(20, 1).view(-1), torch.randint(0, 2, size=(20, 1)).view(-1)\n",
    "print(actual, output)\n",
    "print(metric(output, actual))\n",
    "metric.get()"
   ]
  },
  {
   "cell_type": "code",
   "execution_count": 27,
   "id": "bb509829-9982-476d-8b10-fc6da1140b16",
   "metadata": {},
   "outputs": [],
   "source": [
    "class Trainer:\n",
    "    def __init__(self,\n",
    "                model: torch.nn.Module,\n",
    "                train_dataloader: torch.utils.data.DataLoader,\n",
    "                eval_dataloader: torch.utils.data.DataLoader = None,\n",
    "                loss_fn = torch.nn.functional.mse_loss,\n",
    "                epochs: int = 5,\n",
    "                optimizer_clz = torch.optim.SGD,\n",
    "                optim_params: dict = {'lr':1e-2},\n",
    "                device: torch.device = torch.device(\"cpu\"),\n",
    "                metric_collection = None,\n",
    "                verbose = 1,\n",
    "                log_step = 500,\n",
    "                *args, **kwargs\n",
    "                ):\n",
    "        self.log_step = log_step\n",
    "        self.verbose = verbose\n",
    "        self.model = model.to(device)\n",
    "        self.train_dl = train_dataloader\n",
    "        self.eval_dl = eval_dataloader\n",
    "        self.loss_fn = loss_fn\n",
    "        self.optimizer = optimizer_clz(self.model.parameters(), **optim_params)\n",
    "        self.epochs = epochs\n",
    "        self.device = device\n",
    "        self.metric_collection = metric_collection.to(device) if metric_collection else None\n",
    "\n",
    "    def compute_loss(self, batch, output):\n",
    "        loss = {}\n",
    "        for k in output:\n",
    "            if k in batch:\n",
    "                loss[k] = self.loss_fn(output[k].view(-1).float(), batch[k].view(-1).float())\n",
    "        return loss\n",
    "\n",
    "    def compute_metric(self, batch, output, show_tensor=False):\n",
    "        res = {}\n",
    "        for k in output:\n",
    "            if k in batch:\n",
    "                y = (batch[k] >= rating_threshold).long()\n",
    "                if show_tensor:\n",
    "                    print(batch[k].sum(), batch[k].shape[0])\n",
    "                res[k] = self.metric_collection(output[k].view(-1), y.view(-1))\n",
    "        return res\n",
    "    \n",
    "    def set_output(self, _iter, loss, avg_loss, train=True):\n",
    "        _iter.set_description(\n",
    "            \"{}: step loss: {:.3f}, avg_loss: {:.3f}\".format(\n",
    "                \"Train\" if train else \"Eval\",\n",
    "                loss,\n",
    "                avg_loss\n",
    "            )\n",
    "        )\n",
    "    def train_epoch(self):\n",
    "        self.model = self.model.train()\n",
    "        \n",
    "        _iter = tqdm(self.train_dl)\n",
    "        n_batches = len(self.train_dl)\n",
    "        total_loss = 0\n",
    "        for _i, batch in enumerate(_iter):\n",
    "            self.optimizer.zero_grad()\n",
    "            output = self.model(batch)\n",
    "            loss = self.compute_loss(batch, output)\n",
    "            # multiple task we need better way to gives weights, ryt now it is uniform\n",
    "            loss = sum([loss[l] for l in loss])/(len(loss) + 1e-6)\n",
    "            \n",
    "            loss.backward()\n",
    "            self.optimizer.step()\n",
    "            total_loss += loss.cpu().item()\n",
    "            \n",
    "            self.set_output(_iter, loss.item(), total_loss/(_i+1), train=True)\n",
    "            show_tensor = False\n",
    "            if self.verbose > 0 \\\n",
    "                and _i % self.log_step == 0 and _i != 0:\n",
    "                print(self.metric_collection.get())\n",
    "                show_tensor = True\n",
    "            with torch.no_grad():\n",
    "                self.compute_metric(batch, output, show_tensor)\n",
    "        return {\n",
    "            'loss': total_loss/(n_batches),\n",
    "            'mode': 'Train'\n",
    "        }\n",
    "    \n",
    "    @torch.no_grad()\n",
    "    def eval_epoch(self):\n",
    "        self.model = self.model.eval()\n",
    "        \n",
    "        _iter = tqdm(self.eval_dl)\n",
    "        n_batches = len(self.eval_dl)\n",
    "        total_loss = 0\n",
    "        for _i, batch in enumerate(_iter):\n",
    "            output = self.model(batch)\n",
    "            loss = self.compute_loss(batch, output)\n",
    "            # multiple task we need better way to gives weights, ryt now it is uniform\n",
    "            loss = sum([loss[l] for l in loss])/(len(loss) + 1e-6)\n",
    "            \n",
    "            total_loss += loss.cpu().item()\n",
    "            self.set_output(_iter, loss.item(), total_loss/(_i+1), train=False)\n",
    "            \n",
    "            show_tensor = False\n",
    "            if self.verbose > 0 \\\n",
    "                and _i % self.log_step == 0 and _i != 0:\n",
    "                print(self.metric_collection.get())\n",
    "                show_tensor = True\n",
    "            self.compute_metric(batch, output, show_tensor=show_tensor)\n",
    "                \n",
    "        return {\n",
    "            'loss': total_loss/(n_batches),\n",
    "            'mode': 'Eval'\n",
    "        }\n",
    "\n",
    "    def fit(self):\n",
    "        for epoch in range(1, self.epochs+1):\n",
    "            print(\"EPOCH:\", epoch)\n",
    "            self.train_epoch()\n",
    "            eval_output = self.eval_epoch()\n",
    "            print(eval_output)"
   ]
  },
  {
   "cell_type": "code",
   "execution_count": 28,
   "id": "4bdba1d9-117f-4828-bfaa-42a5f5012841",
   "metadata": {},
   "outputs": [],
   "source": [
    "trainer = Trainer(\n",
    "    model=model, train_dataloader=traindl, eval_dataloader=testdl, \n",
    "    loss_fn=F.mse_loss,\n",
    "    metric_collection = Metric(),\n",
    "    log_step = 100\n",
    ")"
   ]
  },
  {
   "cell_type": "code",
   "execution_count": 29,
   "id": "2bde6177-3407-4375-bc1a-ff70697cca38",
   "metadata": {},
   "outputs": [
    {
     "name": "stdout",
     "output_type": "stream",
     "text": [
      "EPOCH: 1\n"
     ]
    },
    {
     "name": "stderr",
     "output_type": "stream",
     "text": [
      "Train: step loss: 1.196, avg_loss: 1.745:   8%|▊         | 101/1219 [01:57<20:24,  1.10s/it]  "
     ]
    },
    {
     "name": "stdout",
     "output_type": "stream",
     "text": [
      "{'mse': tensor(7.0783), 'r2_score': tensor(-47.8666)}\n",
      "tensor(58193., dtype=torch.float64) 16384\n"
     ]
    },
    {
     "name": "stderr",
     "output_type": "stream",
     "text": [
      "Train: step loss: 1.166, avg_loss: 1.464:  16%|█▋        | 201/1219 [03:48<18:46,  1.11s/it]"
     ]
    },
    {
     "name": "stdout",
     "output_type": "stream",
     "text": [
      "{'mse': tensor(7.3138), 'r2_score': tensor(-49.5219)}\n",
      "tensor(58097., dtype=torch.float64) 16384\n"
     ]
    },
    {
     "name": "stderr",
     "output_type": "stream",
     "text": [
      "Train: step loss: 1.130, avg_loss: 1.361:  25%|██▍       | 301/1219 [05:39<17:12,  1.12s/it]"
     ]
    },
    {
     "name": "stdout",
     "output_type": "stream",
     "text": [
      "{'mse': tensor(7.3951), 'r2_score': tensor(-50.0997)}\n",
      "tensor(58301.5000, dtype=torch.float64) 16384\n"
     ]
    },
    {
     "name": "stderr",
     "output_type": "stream",
     "text": [
      "Train: step loss: 1.115, avg_loss: 1.305:  33%|███▎      | 401/1219 [07:30<15:04,  1.11s/it]"
     ]
    },
    {
     "name": "stdout",
     "output_type": "stream",
     "text": [
      "{'mse': tensor(7.4394), 'r2_score': tensor(-50.4454)}\n",
      "tensor(58160., dtype=torch.float64) 16384\n"
     ]
    },
    {
     "name": "stderr",
     "output_type": "stream",
     "text": [
      "Train: step loss: 1.149, avg_loss: 1.270:  41%|████      | 501/1219 [09:21<13:19,  1.11s/it]"
     ]
    },
    {
     "name": "stdout",
     "output_type": "stream",
     "text": [
      "{'mse': tensor(7.4647), 'r2_score': tensor(-50.6014)}\n",
      "tensor(58035.5000, dtype=torch.float64) 16384\n"
     ]
    },
    {
     "name": "stderr",
     "output_type": "stream",
     "text": [
      "Train: step loss: 1.124, avg_loss: 1.245:  49%|████▉     | 601/1219 [11:12<11:36,  1.13s/it]"
     ]
    },
    {
     "name": "stdout",
     "output_type": "stream",
     "text": [
      "{'mse': tensor(7.4824), 'r2_score': tensor(-50.7331)}\n",
      "tensor(58401.5000, dtype=torch.float64) 16384\n"
     ]
    },
    {
     "name": "stderr",
     "output_type": "stream",
     "text": [
      "Train: step loss: 1.103, avg_loss: 1.227:  58%|█████▊    | 701/1219 [13:03<09:31,  1.10s/it]"
     ]
    },
    {
     "name": "stdout",
     "output_type": "stream",
     "text": [
      "{'mse': tensor(7.4957), 'r2_score': tensor(-50.8221)}\n",
      "tensor(58018.5000, dtype=torch.float64) 16384\n"
     ]
    },
    {
     "name": "stderr",
     "output_type": "stream",
     "text": [
      "Train: step loss: 1.120, avg_loss: 1.212:  66%|██████▌   | 801/1219 [14:54<07:42,  1.11s/it]"
     ]
    },
    {
     "name": "stdout",
     "output_type": "stream",
     "text": [
      "{'mse': tensor(7.5053), 'r2_score': tensor(-50.8946)}\n",
      "tensor(58080.5000, dtype=torch.float64) 16384\n"
     ]
    },
    {
     "name": "stderr",
     "output_type": "stream",
     "text": [
      "Train: step loss: 1.095, avg_loss: 1.200:  74%|███████▍  | 901/1219 [16:45<05:54,  1.11s/it]"
     ]
    },
    {
     "name": "stdout",
     "output_type": "stream",
     "text": [
      "{'mse': tensor(7.5139), 'r2_score': tensor(-50.9561)}\n",
      "tensor(58217.5000, dtype=torch.float64) 16384\n"
     ]
    },
    {
     "name": "stderr",
     "output_type": "stream",
     "text": [
      "Train: step loss: 1.099, avg_loss: 1.190:  82%|████████▏ | 1001/1219 [18:36<04:03,  1.12s/it]"
     ]
    },
    {
     "name": "stdout",
     "output_type": "stream",
     "text": [
      "{'mse': tensor(7.5211), 'r2_score': tensor(-51.0101)}\n",
      "tensor(58089., dtype=torch.float64) 16384\n"
     ]
    },
    {
     "name": "stderr",
     "output_type": "stream",
     "text": [
      "Train: step loss: 1.082, avg_loss: 1.181:  90%|█████████ | 1101/1219 [20:28<02:12,  1.12s/it]"
     ]
    },
    {
     "name": "stdout",
     "output_type": "stream",
     "text": [
      "{'mse': tensor(7.5267), 'r2_score': tensor(-51.0456)}\n",
      "tensor(58118., dtype=torch.float64) 16384\n"
     ]
    },
    {
     "name": "stderr",
     "output_type": "stream",
     "text": [
      "Train: step loss: 1.077, avg_loss: 1.174:  99%|█████████▊| 1201/1219 [22:22<00:20,  1.15s/it]"
     ]
    },
    {
     "name": "stdout",
     "output_type": "stream",
     "text": [
      "{'mse': tensor(7.5317), 'r2_score': tensor(-51.0836)}\n",
      "tensor(58250.5000, dtype=torch.float64) 16384\n"
     ]
    },
    {
     "name": "stderr",
     "output_type": "stream",
     "text": [
      "Train: step loss: 1.095, avg_loss: 1.172: 100%|██████████| 1219/1219 [22:49<00:00,  1.12s/it]\n",
      "Eval: step loss: 1.087, avg_loss: 1.107:  33%|███▎      | 101/308 [01:58<04:02,  1.17s/it]"
     ]
    },
    {
     "name": "stdout",
     "output_type": "stream",
     "text": [
      "{'mse': tensor(7.5364), 'r2_score': tensor(-50.8364)}\n",
      "tensor(56874.5000, dtype=torch.float64) 16384\n"
     ]
    },
    {
     "name": "stderr",
     "output_type": "stream",
     "text": [
      "Eval: step loss: 1.106, avg_loss: 1.107:  65%|██████▌   | 201/308 [03:59<01:56,  1.09s/it]"
     ]
    },
    {
     "name": "stdout",
     "output_type": "stream",
     "text": [
      "{'mse': tensor(7.5397), 'r2_score': tensor(-50.6178)}\n",
      "tensor(56958., dtype=torch.float64) 16384\n"
     ]
    },
    {
     "name": "stderr",
     "output_type": "stream",
     "text": [
      "Eval: step loss: 1.118, avg_loss: 1.108:  98%|█████████▊| 301/308 [06:01<00:08,  1.24s/it]"
     ]
    },
    {
     "name": "stdout",
     "output_type": "stream",
     "text": [
      "{'mse': tensor(7.5429), 'r2_score': tensor(-50.4252)}\n",
      "tensor(56822., dtype=torch.float64) 16384\n"
     ]
    },
    {
     "name": "stderr",
     "output_type": "stream",
     "text": [
      "Eval: step loss: 1.156, avg_loss: 1.108: 100%|██████████| 308/308 [06:13<00:00,  1.21s/it]\n"
     ]
    },
    {
     "name": "stdout",
     "output_type": "stream",
     "text": [
      "{'loss': 1.1081227544066194, 'mode': 'Eval'}\n",
      "EPOCH: 2\n"
     ]
    },
    {
     "name": "stderr",
     "output_type": "stream",
     "text": [
      "Train: step loss: 1.085, avg_loss: 1.088:   8%|▊         | 101/1219 [02:17<22:41,  1.22s/it]"
     ]
    },
    {
     "name": "stdout",
     "output_type": "stream",
     "text": [
      "{'mse': tensor(7.5457), 'r2_score': tensor(-50.4717)}\n",
      "tensor(58209.5000, dtype=torch.float64) 16384\n"
     ]
    },
    {
     "name": "stderr",
     "output_type": "stream",
     "text": [
      "Train: step loss: 1.070, avg_loss: 1.087:  16%|█▋        | 201/1219 [04:25<21:11,  1.25s/it]"
     ]
    },
    {
     "name": "stdout",
     "output_type": "stream",
     "text": [
      "{'mse': tensor(7.5479), 'r2_score': tensor(-50.5253)}\n",
      "tensor(58238.5000, dtype=torch.float64) 16384\n"
     ]
    },
    {
     "name": "stderr",
     "output_type": "stream",
     "text": [
      "Train: step loss: 1.067, avg_loss: 1.085:  25%|██▍       | 301/1219 [06:32<19:10,  1.25s/it]"
     ]
    },
    {
     "name": "stdout",
     "output_type": "stream",
     "text": [
      "{'mse': tensor(7.5505), 'r2_score': tensor(-50.5843)}\n",
      "tensor(58388.5000, dtype=torch.float64) 16384\n"
     ]
    },
    {
     "name": "stderr",
     "output_type": "stream",
     "text": [
      "Train: step loss: 1.072, avg_loss: 1.083:  33%|███▎      | 401/1219 [08:37<17:24,  1.28s/it]"
     ]
    },
    {
     "name": "stdout",
     "output_type": "stream",
     "text": [
      "{'mse': tensor(7.5528), 'r2_score': tensor(-50.6373)}\n",
      "tensor(58010.5000, dtype=torch.float64) 16384\n"
     ]
    },
    {
     "name": "stderr",
     "output_type": "stream",
     "text": [
      "Train: step loss: 1.108, avg_loss: 1.081:  41%|████      | 501/1219 [10:39<13:25,  1.12s/it]"
     ]
    },
    {
     "name": "stdout",
     "output_type": "stream",
     "text": [
      "{'mse': tensor(7.5547), 'r2_score': tensor(-50.6749)}\n",
      "tensor(57747.5000, dtype=torch.float64) 16384\n"
     ]
    },
    {
     "name": "stderr",
     "output_type": "stream",
     "text": [
      "Train: step loss: 1.060, avg_loss: 1.080:  49%|████▉     | 601/1219 [14:28<24:24,  2.37s/it]"
     ]
    },
    {
     "name": "stdout",
     "output_type": "stream",
     "text": [
      "{'mse': tensor(7.5567), 'r2_score': tensor(-50.7140)}\n",
      "tensor(58230.5000, dtype=torch.float64) 16384\n"
     ]
    },
    {
     "name": "stderr",
     "output_type": "stream",
     "text": [
      "Train: step loss: 1.049, avg_loss: 1.079:  58%|█████▊    | 701/1219 [18:19<19:56,  2.31s/it]"
     ]
    },
    {
     "name": "stdout",
     "output_type": "stream",
     "text": [
      "{'mse': tensor(7.5585), 'r2_score': tensor(-50.7495)}\n",
      "tensor(58039.5000, dtype=torch.float64) 16384\n"
     ]
    },
    {
     "name": "stderr",
     "output_type": "stream",
     "text": [
      "Train: step loss: 1.061, avg_loss: 1.077:  66%|██████▌   | 801/1219 [20:11<07:42,  1.11s/it]"
     ]
    },
    {
     "name": "stdout",
     "output_type": "stream",
     "text": [
      "{'mse': tensor(7.5600), 'r2_score': tensor(-50.7831)}\n",
      "tensor(58312., dtype=torch.float64) 16384\n"
     ]
    },
    {
     "name": "stderr",
     "output_type": "stream",
     "text": [
      "Train: step loss: 1.064, avg_loss: 1.076:  74%|███████▍  | 901/1219 [22:01<05:51,  1.11s/it]"
     ]
    },
    {
     "name": "stdout",
     "output_type": "stream",
     "text": [
      "{'mse': tensor(7.5615), 'r2_score': tensor(-50.8139)}\n",
      "tensor(57938.5000, dtype=torch.float64) 16384\n"
     ]
    },
    {
     "name": "stderr",
     "output_type": "stream",
     "text": [
      "Train: step loss: 1.057, avg_loss: 1.075:  82%|████████▏ | 1001/1219 [23:50<03:59,  1.10s/it]"
     ]
    },
    {
     "name": "stdout",
     "output_type": "stream",
     "text": [
      "{'mse': tensor(7.5630), 'r2_score': tensor(-50.8413)}\n",
      "tensor(58183., dtype=torch.float64) 16384\n"
     ]
    },
    {
     "name": "stderr",
     "output_type": "stream",
     "text": [
      "Train: step loss: 1.076, avg_loss: 1.074:  90%|█████████ | 1101/1219 [25:47<02:11,  1.12s/it]"
     ]
    },
    {
     "name": "stdout",
     "output_type": "stream",
     "text": [
      "{'mse': tensor(7.5646), 'r2_score': tensor(-50.8709)}\n",
      "tensor(57838.5000, dtype=torch.float64) 16384\n"
     ]
    },
    {
     "name": "stderr",
     "output_type": "stream",
     "text": [
      "Train: step loss: 1.080, avg_loss: 1.073:  99%|█████████▊| 1201/1219 [27:49<00:21,  1.22s/it]"
     ]
    },
    {
     "name": "stdout",
     "output_type": "stream",
     "text": [
      "{'mse': tensor(7.5661), 'r2_score': tensor(-50.9014)}\n",
      "tensor(57956.5000, dtype=torch.float64) 16384\n"
     ]
    },
    {
     "name": "stderr",
     "output_type": "stream",
     "text": [
      "Train: step loss: 1.039, avg_loss: 1.072: 100%|██████████| 1219/1219 [28:16<00:00,  1.39s/it]\n",
      "Eval: step loss: 1.065, avg_loss: 1.082:  33%|███▎      | 101/308 [02:10<04:31,  1.31s/it]"
     ]
    },
    {
     "name": "stdout",
     "output_type": "stream",
     "text": [
      "{'mse': tensor(7.5653), 'r2_score': tensor(-50.7823)}\n",
      "tensor(56884.5000, dtype=torch.float64) 16384\n"
     ]
    },
    {
     "name": "stderr",
     "output_type": "stream",
     "text": [
      "Eval: step loss: 1.075, avg_loss: 1.082:  65%|██████▌   | 201/308 [04:20<02:19,  1.30s/it]"
     ]
    },
    {
     "name": "stdout",
     "output_type": "stream",
     "text": [
      "{'mse': tensor(7.5644), 'r2_score': tensor(-50.6667)}\n",
      "tensor(57075., dtype=torch.float64) 16384\n"
     ]
    },
    {
     "name": "stderr",
     "output_type": "stream",
     "text": [
      "Eval: step loss: 1.093, avg_loss: 1.082:  98%|█████████▊| 301/308 [06:39<00:09,  1.38s/it]"
     ]
    },
    {
     "name": "stdout",
     "output_type": "stream",
     "text": [
      "{'mse': tensor(7.5634), 'r2_score': tensor(-50.5623)}\n",
      "tensor(56647.5000, dtype=torch.float64) 16384\n"
     ]
    },
    {
     "name": "stderr",
     "output_type": "stream",
     "text": [
      "Eval: step loss: 1.186, avg_loss: 1.082: 100%|██████████| 308/308 [06:52<00:00,  1.34s/it]\n"
     ]
    },
    {
     "name": "stdout",
     "output_type": "stream",
     "text": [
      "{'loss': 1.082247995323949, 'mode': 'Eval'}\n",
      "EPOCH: 3\n"
     ]
    },
    {
     "name": "stderr",
     "output_type": "stream",
     "text": [
      "Train: step loss: 1.087, avg_loss: 1.056:   8%|▊         | 101/1219 [02:30<27:11,  1.46s/it]"
     ]
    },
    {
     "name": "stdout",
     "output_type": "stream",
     "text": [
      "{'mse': tensor(7.5647), 'r2_score': tensor(-50.5902)}\n",
      "tensor(57935., dtype=torch.float64) 16384\n"
     ]
    },
    {
     "name": "stderr",
     "output_type": "stream",
     "text": [
      "Train: step loss: 1.049, avg_loss: 1.055:  16%|█▋        | 201/1219 [04:49<23:10,  1.37s/it]"
     ]
    },
    {
     "name": "stdout",
     "output_type": "stream",
     "text": [
      "{'mse': tensor(7.5660), 'r2_score': tensor(-50.6194)}\n",
      "tensor(58223., dtype=torch.float64) 16384\n"
     ]
    },
    {
     "name": "stderr",
     "output_type": "stream",
     "text": [
      "Train: step loss: 1.061, avg_loss: 1.055:  25%|██▍       | 301/1219 [07:08<20:56,  1.37s/it]"
     ]
    },
    {
     "name": "stdout",
     "output_type": "stream",
     "text": [
      "{'mse': tensor(7.5671), 'r2_score': tensor(-50.6473)}\n",
      "tensor(58056., dtype=torch.float64) 16384\n"
     ]
    },
    {
     "name": "stderr",
     "output_type": "stream",
     "text": [
      "Train: step loss: 1.042, avg_loss: 1.054:  33%|███▎      | 401/1219 [09:28<19:09,  1.40s/it]"
     ]
    },
    {
     "name": "stdout",
     "output_type": "stream",
     "text": [
      "{'mse': tensor(7.5682), 'r2_score': tensor(-50.6759)}\n",
      "tensor(58189., dtype=torch.float64) 16384\n"
     ]
    },
    {
     "name": "stderr",
     "output_type": "stream",
     "text": [
      "Train: step loss: 1.043, avg_loss: 1.053:  41%|████      | 501/1219 [11:46<16:50,  1.41s/it]"
     ]
    },
    {
     "name": "stdout",
     "output_type": "stream",
     "text": [
      "{'mse': tensor(7.5693), 'r2_score': tensor(-50.7027)}\n",
      "tensor(58203., dtype=torch.float64) 16384\n"
     ]
    },
    {
     "name": "stderr",
     "output_type": "stream",
     "text": [
      "Train: step loss: 1.041, avg_loss: 1.052:  49%|████▉     | 601/1219 [14:03<14:01,  1.36s/it]"
     ]
    },
    {
     "name": "stdout",
     "output_type": "stream",
     "text": [
      "{'mse': tensor(7.5703), 'r2_score': tensor(-50.7285)}\n",
      "tensor(57725.5000, dtype=torch.float64) 16384\n"
     ]
    },
    {
     "name": "stderr",
     "output_type": "stream",
     "text": [
      "Train: step loss: 1.048, avg_loss: 1.052:  58%|█████▊    | 701/1219 [16:22<12:05,  1.40s/it]"
     ]
    },
    {
     "name": "stdout",
     "output_type": "stream",
     "text": [
      "{'mse': tensor(7.5713), 'r2_score': tensor(-50.7507)}\n",
      "tensor(58327., dtype=torch.float64) 16384\n"
     ]
    },
    {
     "name": "stderr",
     "output_type": "stream",
     "text": [
      "Train: step loss: 1.052, avg_loss: 1.051:  66%|██████▌   | 801/1219 [18:41<09:07,  1.31s/it]"
     ]
    },
    {
     "name": "stdout",
     "output_type": "stream",
     "text": [
      "{'mse': tensor(7.5723), 'r2_score': tensor(-50.7757)}\n",
      "tensor(58085.5000, dtype=torch.float64) 16384\n"
     ]
    },
    {
     "name": "stderr",
     "output_type": "stream",
     "text": [
      "Train: step loss: 1.063, avg_loss: 1.050:  74%|███████▍  | 901/1219 [20:53<07:40,  1.45s/it]"
     ]
    },
    {
     "name": "stdout",
     "output_type": "stream",
     "text": [
      "{'mse': tensor(7.5732), 'r2_score': tensor(-50.7934)}\n",
      "tensor(58009., dtype=torch.float64) 16384\n"
     ]
    },
    {
     "name": "stderr",
     "output_type": "stream",
     "text": [
      "Train: step loss: 1.027, avg_loss: 1.050:  82%|████████▏ | 1001/1219 [23:06<04:44,  1.30s/it]"
     ]
    },
    {
     "name": "stdout",
     "output_type": "stream",
     "text": [
      "{'mse': tensor(7.5742), 'r2_score': tensor(-50.8140)}\n",
      "tensor(57979., dtype=torch.float64) 16384\n"
     ]
    },
    {
     "name": "stderr",
     "output_type": "stream",
     "text": [
      "Train: step loss: 1.031, avg_loss: 1.049:  90%|█████████ | 1101/1219 [25:17<02:33,  1.30s/it]"
     ]
    },
    {
     "name": "stdout",
     "output_type": "stream",
     "text": [
      "{'mse': tensor(7.5751), 'r2_score': tensor(-50.8333)}\n",
      "tensor(57851., dtype=torch.float64) 16384\n"
     ]
    },
    {
     "name": "stderr",
     "output_type": "stream",
     "text": [
      "Train: step loss: 1.045, avg_loss: 1.048:  99%|█████████▊| 1201/1219 [27:20<00:21,  1.22s/it]"
     ]
    },
    {
     "name": "stdout",
     "output_type": "stream",
     "text": [
      "{'mse': tensor(7.5760), 'r2_score': tensor(-50.8531)}\n",
      "tensor(58244.5000, dtype=torch.float64) 16384\n"
     ]
    },
    {
     "name": "stderr",
     "output_type": "stream",
     "text": [
      "Train: step loss: 1.032, avg_loss: 1.048: 100%|██████████| 1219/1219 [27:46<00:00,  1.37s/it]\n",
      "Eval: step loss: 1.067, avg_loss: 1.067:  33%|███▎      | 101/308 [01:52<03:51,  1.12s/it]"
     ]
    },
    {
     "name": "stdout",
     "output_type": "stream",
     "text": [
      "{'mse': tensor(7.5761), 'r2_score': tensor(-50.7844)}\n",
      "tensor(56835.5000, dtype=torch.float64) 16384\n"
     ]
    },
    {
     "name": "stderr",
     "output_type": "stream",
     "text": [
      "Eval: step loss: 1.074, avg_loss: 1.067:  65%|██████▌   | 201/308 [03:40<02:01,  1.14s/it]"
     ]
    },
    {
     "name": "stdout",
     "output_type": "stream",
     "text": [
      "{'mse': tensor(7.5760), 'r2_score': tensor(-50.7130)}\n",
      "tensor(56894.5000, dtype=torch.float64) 16384\n"
     ]
    },
    {
     "name": "stderr",
     "output_type": "stream",
     "text": [
      "Eval: step loss: 1.055, avg_loss: 1.066:  98%|█████████▊| 301/308 [05:26<00:07,  1.12s/it]"
     ]
    },
    {
     "name": "stdout",
     "output_type": "stream",
     "text": [
      "{'mse': tensor(7.5759), 'r2_score': tensor(-50.6461)}\n",
      "tensor(57063., dtype=torch.float64) 16384\n"
     ]
    },
    {
     "name": "stderr",
     "output_type": "stream",
     "text": [
      "Eval: step loss: 1.029, avg_loss: 1.066: 100%|██████████| 308/308 [05:38<00:00,  1.10s/it]\n"
     ]
    },
    {
     "name": "stdout",
     "output_type": "stream",
     "text": [
      "{'loss': 1.0656904818175674, 'mode': 'Eval'}\n",
      "EPOCH: 4\n"
     ]
    },
    {
     "name": "stderr",
     "output_type": "stream",
     "text": [
      "Train: step loss: 1.056, avg_loss: 1.038:   8%|▊         | 101/1219 [01:55<21:14,  1.14s/it]"
     ]
    },
    {
     "name": "stdout",
     "output_type": "stream",
     "text": [
      "{'mse': tensor(7.5767), 'r2_score': tensor(-50.6621)}\n",
      "tensor(58061., dtype=torch.float64) 16384\n"
     ]
    },
    {
     "name": "stderr",
     "output_type": "stream",
     "text": [
      "Train: step loss: 1.011, avg_loss: 1.037:  16%|█▋        | 201/1219 [03:47<19:42,  1.16s/it]"
     ]
    },
    {
     "name": "stdout",
     "output_type": "stream",
     "text": [
      "{'mse': tensor(7.5777), 'r2_score': tensor(-50.6838)}\n",
      "tensor(58283., dtype=torch.float64) 16384\n"
     ]
    },
    {
     "name": "stderr",
     "output_type": "stream",
     "text": [
      "Train: step loss: 1.057, avg_loss: 1.037:  25%|██▍       | 301/1219 [05:38<17:38,  1.15s/it]"
     ]
    },
    {
     "name": "stdout",
     "output_type": "stream",
     "text": [
      "{'mse': tensor(7.5784), 'r2_score': tensor(-50.7030)}\n",
      "tensor(58000., dtype=torch.float64) 16384\n"
     ]
    },
    {
     "name": "stderr",
     "output_type": "stream",
     "text": [
      "Train: step loss: 1.036, avg_loss: 1.036:  33%|███▎      | 401/1219 [07:28<15:43,  1.15s/it]"
     ]
    },
    {
     "name": "stdout",
     "output_type": "stream",
     "text": [
      "{'mse': tensor(7.5792), 'r2_score': tensor(-50.7225)}\n",
      "tensor(58130., dtype=torch.float64) 16384\n"
     ]
    },
    {
     "name": "stderr",
     "output_type": "stream",
     "text": [
      "Train: step loss: 1.022, avg_loss: 1.035:  41%|████      | 501/1219 [09:19<13:06,  1.10s/it]"
     ]
    },
    {
     "name": "stdout",
     "output_type": "stream",
     "text": [
      "{'mse': tensor(7.5799), 'r2_score': tensor(-50.7405)}\n",
      "tensor(58085.5000, dtype=torch.float64) 16384\n"
     ]
    },
    {
     "name": "stderr",
     "output_type": "stream",
     "text": [
      "Train: step loss: 1.028, avg_loss: 1.035:  49%|████▉     | 601/1219 [11:09<10:51,  1.05s/it]"
     ]
    },
    {
     "name": "stdout",
     "output_type": "stream",
     "text": [
      "{'mse': tensor(7.5806), 'r2_score': tensor(-50.7575)}\n",
      "tensor(58350., dtype=torch.float64) 16384\n"
     ]
    },
    {
     "name": "stderr",
     "output_type": "stream",
     "text": [
      "Train: step loss: 1.051, avg_loss: 1.034:  58%|█████▊    | 701/1219 [13:01<10:02,  1.16s/it]"
     ]
    },
    {
     "name": "stdout",
     "output_type": "stream",
     "text": [
      "{'mse': tensor(7.5813), 'r2_score': tensor(-50.7754)}\n",
      "tensor(58086.5000, dtype=torch.float64) 16384\n"
     ]
    },
    {
     "name": "stderr",
     "output_type": "stream",
     "text": [
      "Train: step loss: 1.020, avg_loss: 1.034:  66%|██████▌   | 801/1219 [14:52<08:09,  1.17s/it]"
     ]
    },
    {
     "name": "stdout",
     "output_type": "stream",
     "text": [
      "{'mse': tensor(7.5820), 'r2_score': tensor(-50.7918)}\n",
      "tensor(58189., dtype=torch.float64) 16384\n"
     ]
    },
    {
     "name": "stderr",
     "output_type": "stream",
     "text": [
      "Train: step loss: 1.052, avg_loss: 1.033:  74%|███████▍  | 901/1219 [16:43<05:59,  1.13s/it]"
     ]
    },
    {
     "name": "stdout",
     "output_type": "stream",
     "text": [
      "{'mse': tensor(7.5826), 'r2_score': tensor(-50.8091)}\n",
      "tensor(58047., dtype=torch.float64) 16384\n"
     ]
    },
    {
     "name": "stderr",
     "output_type": "stream",
     "text": [
      "Train: step loss: 1.029, avg_loss: 1.033:  82%|████████▏ | 1001/1219 [18:34<04:11,  1.15s/it]"
     ]
    },
    {
     "name": "stdout",
     "output_type": "stream",
     "text": [
      "{'mse': tensor(7.5832), 'r2_score': tensor(-50.8245)}\n",
      "tensor(58149., dtype=torch.float64) 16384\n"
     ]
    },
    {
     "name": "stderr",
     "output_type": "stream",
     "text": [
      "Train: step loss: 1.017, avg_loss: 1.032:  90%|█████████ | 1101/1219 [20:26<02:17,  1.17s/it]"
     ]
    },
    {
     "name": "stdout",
     "output_type": "stream",
     "text": [
      "{'mse': tensor(7.5838), 'r2_score': tensor(-50.8388)}\n",
      "tensor(58235., dtype=torch.float64) 16384\n"
     ]
    },
    {
     "name": "stderr",
     "output_type": "stream",
     "text": [
      "Train: step loss: 1.012, avg_loss: 1.031:  99%|█████████▊| 1201/1219 [22:18<00:21,  1.18s/it]"
     ]
    },
    {
     "name": "stdout",
     "output_type": "stream",
     "text": [
      "{'mse': tensor(7.5845), 'r2_score': tensor(-50.8561)}\n",
      "tensor(58249.5000, dtype=torch.float64) 16384\n"
     ]
    },
    {
     "name": "stderr",
     "output_type": "stream",
     "text": [
      "Train: step loss: 1.008, avg_loss: 1.031: 100%|██████████| 1219/1219 [22:43<00:00,  1.12s/it]\n",
      "Eval: step loss: 1.035, avg_loss: 1.053:  33%|███▎      | 101/308 [01:50<03:36,  1.05s/it]"
     ]
    },
    {
     "name": "stdout",
     "output_type": "stream",
     "text": [
      "{'mse': tensor(7.5830), 'r2_score': tensor(-50.7957)}\n",
      "tensor(56894.5000, dtype=torch.float64) 16384\n"
     ]
    },
    {
     "name": "stderr",
     "output_type": "stream",
     "text": [
      "Eval: step loss: 1.044, avg_loss: 1.051:  65%|██████▌   | 201/308 [03:38<01:51,  1.04s/it]"
     ]
    },
    {
     "name": "stdout",
     "output_type": "stream",
     "text": [
      "{'mse': tensor(7.5815), 'r2_score': tensor(-50.7342)}\n",
      "tensor(56901.5000, dtype=torch.float64) 16384\n"
     ]
    },
    {
     "name": "stderr",
     "output_type": "stream",
     "text": [
      "Eval: step loss: 1.053, avg_loss: 1.052:  98%|█████████▊| 301/308 [05:26<00:07,  1.14s/it]"
     ]
    },
    {
     "name": "stdout",
     "output_type": "stream",
     "text": [
      "{'mse': tensor(7.5801), 'r2_score': tensor(-50.6755)}\n",
      "tensor(56823., dtype=torch.float64) 16384\n"
     ]
    },
    {
     "name": "stderr",
     "output_type": "stream",
     "text": [
      "Eval: step loss: 1.008, avg_loss: 1.051: 100%|██████████| 308/308 [05:37<00:00,  1.10s/it]\n"
     ]
    },
    {
     "name": "stdout",
     "output_type": "stream",
     "text": [
      "{'loss': 1.0514305605516805, 'mode': 'Eval'}\n",
      "EPOCH: 5\n"
     ]
    },
    {
     "name": "stderr",
     "output_type": "stream",
     "text": [
      "Train: step loss: 1.029, avg_loss: 1.023:   8%|▊         | 101/1219 [01:56<21:53,  1.18s/it]"
     ]
    },
    {
     "name": "stdout",
     "output_type": "stream",
     "text": [
      "{'mse': tensor(7.5807), 'r2_score': tensor(-50.6887)}\n",
      "tensor(58309., dtype=torch.float64) 16384\n"
     ]
    },
    {
     "name": "stderr",
     "output_type": "stream",
     "text": [
      "Train: step loss: 1.038, avg_loss: 1.023:  16%|█▋        | 201/1219 [03:47<19:11,  1.13s/it]"
     ]
    },
    {
     "name": "stdout",
     "output_type": "stream",
     "text": [
      "{'mse': tensor(7.5813), 'r2_score': tensor(-50.7053)}\n",
      "tensor(58179., dtype=torch.float64) 16384\n"
     ]
    },
    {
     "name": "stderr",
     "output_type": "stream",
     "text": [
      "Train: step loss: 0.998, avg_loss: 1.023:  25%|██▍       | 301/1219 [05:38<16:42,  1.09s/it]"
     ]
    },
    {
     "name": "stdout",
     "output_type": "stream",
     "text": [
      "{'mse': tensor(7.5819), 'r2_score': tensor(-50.7198)}\n",
      "tensor(58329.5000, dtype=torch.float64) 16384\n"
     ]
    },
    {
     "name": "stderr",
     "output_type": "stream",
     "text": [
      "Train: step loss: 1.014, avg_loss: 1.022:  33%|███▎      | 401/1219 [07:29<15:37,  1.15s/it]"
     ]
    },
    {
     "name": "stdout",
     "output_type": "stream",
     "text": [
      "{'mse': tensor(7.5825), 'r2_score': tensor(-50.7360)}\n",
      "tensor(58229.5000, dtype=torch.float64) 16384\n"
     ]
    },
    {
     "name": "stderr",
     "output_type": "stream",
     "text": [
      "Train: step loss: 1.022, avg_loss: 1.022:  41%|████      | 501/1219 [09:20<13:59,  1.17s/it]"
     ]
    },
    {
     "name": "stdout",
     "output_type": "stream",
     "text": [
      "{'mse': tensor(7.5832), 'r2_score': tensor(-50.7511)}\n",
      "tensor(58236., dtype=torch.float64) 16384\n"
     ]
    },
    {
     "name": "stderr",
     "output_type": "stream",
     "text": [
      "Train: step loss: 1.019, avg_loss: 1.021:  49%|████▉     | 601/1219 [11:10<11:24,  1.11s/it]"
     ]
    },
    {
     "name": "stdout",
     "output_type": "stream",
     "text": [
      "{'mse': tensor(7.5837), 'r2_score': tensor(-50.7657)}\n",
      "tensor(58145.5000, dtype=torch.float64) 16384\n"
     ]
    },
    {
     "name": "stderr",
     "output_type": "stream",
     "text": [
      "Train: step loss: 1.029, avg_loss: 1.021:  58%|█████▊    | 701/1219 [13:00<09:32,  1.11s/it]"
     ]
    },
    {
     "name": "stdout",
     "output_type": "stream",
     "text": [
      "{'mse': tensor(7.5842), 'r2_score': tensor(-50.7773)}\n",
      "tensor(57981., dtype=torch.float64) 16384\n"
     ]
    },
    {
     "name": "stderr",
     "output_type": "stream",
     "text": [
      "Train: step loss: 1.008, avg_loss: 1.020:  66%|██████▌   | 801/1219 [14:50<07:51,  1.13s/it]"
     ]
    },
    {
     "name": "stdout",
     "output_type": "stream",
     "text": [
      "{'mse': tensor(7.5848), 'r2_score': tensor(-50.7913)}\n",
      "tensor(58048., dtype=torch.float64) 16384\n"
     ]
    },
    {
     "name": "stderr",
     "output_type": "stream",
     "text": [
      "Train: step loss: 1.050, avg_loss: 1.020:  74%|███████▍  | 901/1219 [16:39<05:58,  1.13s/it]"
     ]
    },
    {
     "name": "stdout",
     "output_type": "stream",
     "text": [
      "{'mse': tensor(7.5854), 'r2_score': tensor(-50.8046)}\n",
      "tensor(57985.5000, dtype=torch.float64) 16384\n"
     ]
    },
    {
     "name": "stderr",
     "output_type": "stream",
     "text": [
      "Train: step loss: 1.002, avg_loss: 1.020:  82%|████████▏ | 1001/1219 [18:29<04:15,  1.17s/it]"
     ]
    },
    {
     "name": "stdout",
     "output_type": "stream",
     "text": [
      "{'mse': tensor(7.5860), 'r2_score': tensor(-50.8168)}\n",
      "tensor(58183.5000, dtype=torch.float64) 16384\n"
     ]
    },
    {
     "name": "stderr",
     "output_type": "stream",
     "text": [
      "Train: step loss: 1.016, avg_loss: 1.019:  90%|█████████ | 1101/1219 [20:31<02:26,  1.24s/it]"
     ]
    },
    {
     "name": "stdout",
     "output_type": "stream",
     "text": [
      "{'mse': tensor(7.5865), 'r2_score': tensor(-50.8311)}\n",
      "tensor(58010., dtype=torch.float64) 16384\n"
     ]
    },
    {
     "name": "stderr",
     "output_type": "stream",
     "text": [
      "Train: step loss: 0.996, avg_loss: 1.019:  99%|█████████▊| 1201/1219 [22:30<00:21,  1.19s/it]"
     ]
    },
    {
     "name": "stdout",
     "output_type": "stream",
     "text": [
      "{'mse': tensor(7.5871), 'r2_score': tensor(-50.8440)}\n",
      "tensor(58099.5000, dtype=torch.float64) 16384\n"
     ]
    },
    {
     "name": "stderr",
     "output_type": "stream",
     "text": [
      "Train: step loss: 1.000, avg_loss: 1.019: 100%|██████████| 1219/1219 [22:58<00:00,  1.13s/it]\n",
      "Eval: step loss: 1.054, avg_loss: 1.041:  33%|███▎      | 101/308 [02:01<03:54,  1.13s/it]"
     ]
    },
    {
     "name": "stdout",
     "output_type": "stream",
     "text": [
      "{'mse': tensor(7.5850), 'r2_score': tensor(-50.7909)}\n",
      "tensor(56552.5000, dtype=torch.float64) 16384\n"
     ]
    },
    {
     "name": "stderr",
     "output_type": "stream",
     "text": [
      "Eval: step loss: 1.040, avg_loss: 1.040:  65%|██████▌   | 201/308 [04:00<02:02,  1.15s/it]"
     ]
    },
    {
     "name": "stdout",
     "output_type": "stream",
     "text": [
      "{'mse': tensor(7.5830), 'r2_score': tensor(-50.7362)}\n",
      "tensor(57068.5000, dtype=torch.float64) 16384\n"
     ]
    },
    {
     "name": "stderr",
     "output_type": "stream",
     "text": [
      "Eval: step loss: 1.032, avg_loss: 1.040:  98%|█████████▊| 301/308 [05:56<00:08,  1.15s/it]"
     ]
    },
    {
     "name": "stdout",
     "output_type": "stream",
     "text": [
      "{'mse': tensor(7.5810), 'r2_score': tensor(-50.6842)}\n",
      "tensor(56946.5000, dtype=torch.float64) 16384\n"
     ]
    },
    {
     "name": "stderr",
     "output_type": "stream",
     "text": [
      "Eval: step loss: 0.964, avg_loss: 1.040: 100%|██████████| 308/308 [06:08<00:00,  1.20s/it]"
     ]
    },
    {
     "name": "stdout",
     "output_type": "stream",
     "text": [
      "{'loss': 1.0402555423123496, 'mode': 'Eval'}\n"
     ]
    },
    {
     "name": "stderr",
     "output_type": "stream",
     "text": [
      "\n"
     ]
    }
   ],
   "source": [
    "trainer.fit()"
   ]
  },
  {
   "attachments": {},
   "cell_type": "markdown",
   "id": "035223c7",
   "metadata": {},
   "source": [
    "#### Evaluation Metric\n",
    "\n",
    "`{'map': tensor(0.8403), 'accuracy': tensor(0.8199), 'recall': tensor(0.9982)}`"
   ]
  },
  {
   "cell_type": "code",
   "execution_count": 30,
   "id": "f6bf3451",
   "metadata": {},
   "outputs": [],
   "source": [
    "torch.save(model.state_dict(), \"./checkpoint/nb_regression_rating_chk_v1.pt\")"
   ]
  },
  {
   "cell_type": "code",
   "execution_count": 31,
   "id": "3d74ffc1",
   "metadata": {},
   "outputs": [
    {
     "data": {
      "text/plain": [
       "tensor([[[-0.3723, -0.6123, -0.3078,  2.0979, -0.5481, -0.0403,  0.1010,\n",
       "          -0.7463, -0.9075, -0.8572,  3.5413, -0.5817,  0.1744, -0.8414,\n",
       "          -0.8148,  1.6080,  1.0704, -0.4259,  0.8676,  1.5981, -0.7697,\n",
       "          -0.0850, -0.7220, -0.3151, -0.9655,  0.5732, -0.6461, -0.8815,\n",
       "          -0.5222,  0.1153,  1.7526, -0.0661,  2.0812, -0.0909, -0.0560,\n",
       "          -0.5846,  2.7871,  0.6511, -0.0607, -0.5849, -0.9713, -0.4278,\n",
       "          -0.9372, -0.6656, -0.0122, -0.3765,  1.2492, -0.7099, -0.2800,\n",
       "          -0.9229, -1.0000,  1.8982, -0.7793, -0.9426,  1.2269, -0.9466,\n",
       "          -0.4407, -0.8189, -0.2898,  0.7152,  1.0276,  0.8229, -0.7092,\n",
       "          -0.9390]]], grad_fn=<NativeLayerNormBackward0>)"
      ]
     },
     "execution_count": 31,
     "metadata": {},
     "output_type": "execute_result"
    }
   ],
   "source": [
    "model.item_tower({\"movieId\":torch.tensor([100]).view(1,1)})"
   ]
  },
  {
   "cell_type": "code",
   "execution_count": null,
   "id": "a1270d38",
   "metadata": {},
   "outputs": [],
   "source": []
  },
  {
   "attachments": {},
   "cell_type": "markdown",
   "id": "06882e53",
   "metadata": {},
   "source": [
    "#### Generate embeddings"
   ]
  },
  {
   "cell_type": "code",
   "execution_count": 32,
   "id": "881c8980",
   "metadata": {},
   "outputs": [],
   "source": [
    "import torch\n",
    "import pandas as pd"
   ]
  },
  {
   "cell_type": "code",
   "execution_count": 33,
   "metadata": {},
   "outputs": [
    {
     "data": {
      "text/plain": [
       "<All keys matched successfully>"
      ]
     },
     "execution_count": 33,
     "metadata": {},
     "output_type": "execute_result"
    }
   ],
   "source": [
    "model = CombinerTower(config)\n",
    "\n",
    "model.load_state_dict(torch.load(\"./checkpoint/nb_regression_rating_chk_v1.pt\"))"
   ]
  },
  {
   "cell_type": "code",
   "execution_count": 34,
   "id": "4aa1c766",
   "metadata": {},
   "outputs": [],
   "source": [
    "movie_df = pd.read_csv(\"./data/ml-25m/movies.csv\")"
   ]
  },
  {
   "cell_type": "code",
   "execution_count": 35,
   "id": "20086f36",
   "metadata": {},
   "outputs": [
    {
     "data": {
      "text/html": [
       "<div>\n",
       "<style scoped>\n",
       "    .dataframe tbody tr th:only-of-type {\n",
       "        vertical-align: middle;\n",
       "    }\n",
       "\n",
       "    .dataframe tbody tr th {\n",
       "        vertical-align: top;\n",
       "    }\n",
       "\n",
       "    .dataframe thead th {\n",
       "        text-align: right;\n",
       "    }\n",
       "</style>\n",
       "<table border=\"1\" class=\"dataframe\">\n",
       "  <thead>\n",
       "    <tr style=\"text-align: right;\">\n",
       "      <th></th>\n",
       "      <th>movieId</th>\n",
       "      <th>title</th>\n",
       "      <th>genres</th>\n",
       "    </tr>\n",
       "  </thead>\n",
       "  <tbody>\n",
       "    <tr>\n",
       "      <th>0</th>\n",
       "      <td>1</td>\n",
       "      <td>Toy Story (1995)</td>\n",
       "      <td>Adventure|Animation|Children|Comedy|Fantasy</td>\n",
       "    </tr>\n",
       "    <tr>\n",
       "      <th>1</th>\n",
       "      <td>2</td>\n",
       "      <td>Jumanji (1995)</td>\n",
       "      <td>Adventure|Children|Fantasy</td>\n",
       "    </tr>\n",
       "    <tr>\n",
       "      <th>2</th>\n",
       "      <td>3</td>\n",
       "      <td>Grumpier Old Men (1995)</td>\n",
       "      <td>Comedy|Romance</td>\n",
       "    </tr>\n",
       "    <tr>\n",
       "      <th>3</th>\n",
       "      <td>4</td>\n",
       "      <td>Waiting to Exhale (1995)</td>\n",
       "      <td>Comedy|Drama|Romance</td>\n",
       "    </tr>\n",
       "    <tr>\n",
       "      <th>4</th>\n",
       "      <td>5</td>\n",
       "      <td>Father of the Bride Part II (1995)</td>\n",
       "      <td>Comedy</td>\n",
       "    </tr>\n",
       "  </tbody>\n",
       "</table>\n",
       "</div>"
      ],
      "text/plain": [
       "   movieId                               title   \n",
       "0        1                    Toy Story (1995)  \\\n",
       "1        2                      Jumanji (1995)   \n",
       "2        3             Grumpier Old Men (1995)   \n",
       "3        4            Waiting to Exhale (1995)   \n",
       "4        5  Father of the Bride Part II (1995)   \n",
       "\n",
       "                                        genres  \n",
       "0  Adventure|Animation|Children|Comedy|Fantasy  \n",
       "1                   Adventure|Children|Fantasy  \n",
       "2                               Comedy|Romance  \n",
       "3                         Comedy|Drama|Romance  \n",
       "4                                       Comedy  "
      ]
     },
     "execution_count": 35,
     "metadata": {},
     "output_type": "execute_result"
    }
   ],
   "source": [
    "movie_df.head()"
   ]
  },
  {
   "cell_type": "code",
   "execution_count": 36,
   "id": "b9fad5ad",
   "metadata": {},
   "outputs": [
    {
     "data": {
      "text/plain": [
       "(62423, 3)"
      ]
     },
     "execution_count": 36,
     "metadata": {},
     "output_type": "execute_result"
    }
   ],
   "source": [
    "movie_df.shape"
   ]
  },
  {
   "cell_type": "code",
   "execution_count": null,
   "id": "4738ae93",
   "metadata": {},
   "outputs": [],
   "source": []
  },
  {
   "cell_type": "code",
   "execution_count": 37,
   "id": "90e6bf96",
   "metadata": {},
   "outputs": [],
   "source": [
    "emb_dim = 64\n",
    "with torch.no_grad():\n",
    "    movie_df['embedding'] = movie_df['movieId'].map(lambda x: model.item_tower({\"movieId\": torch.tensor([x])}).view(emb_dim))"
   ]
  },
  {
   "cell_type": "code",
   "execution_count": 38,
   "id": "7099713c",
   "metadata": {},
   "outputs": [],
   "source": [
    "emb = torch.stack(movie_df['embedding'].values.tolist(), axis=0)"
   ]
  },
  {
   "cell_type": "code",
   "execution_count": 39,
   "id": "704206c5",
   "metadata": {},
   "outputs": [],
   "source": [
    "emb = emb/(emb.norm(dim=1).view(-1,1) + 1e-7)"
   ]
  },
  {
   "cell_type": "code",
   "execution_count": 40,
   "id": "326db882",
   "metadata": {},
   "outputs": [],
   "source": [
    "movie_df['norm_embedding'] = emb.unbind(dim=0)"
   ]
  },
  {
   "cell_type": "code",
   "execution_count": 41,
   "id": "6dedff4d",
   "metadata": {},
   "outputs": [
    {
     "data": {
      "text/html": [
       "<div>\n",
       "<style scoped>\n",
       "    .dataframe tbody tr th:only-of-type {\n",
       "        vertical-align: middle;\n",
       "    }\n",
       "\n",
       "    .dataframe tbody tr th {\n",
       "        vertical-align: top;\n",
       "    }\n",
       "\n",
       "    .dataframe thead th {\n",
       "        text-align: right;\n",
       "    }\n",
       "</style>\n",
       "<table border=\"1\" class=\"dataframe\">\n",
       "  <thead>\n",
       "    <tr style=\"text-align: right;\">\n",
       "      <th></th>\n",
       "      <th>movieId</th>\n",
       "      <th>title</th>\n",
       "      <th>genres</th>\n",
       "      <th>embedding</th>\n",
       "      <th>norm_embedding</th>\n",
       "    </tr>\n",
       "  </thead>\n",
       "  <tbody>\n",
       "    <tr>\n",
       "      <th>0</th>\n",
       "      <td>1</td>\n",
       "      <td>Toy Story (1995)</td>\n",
       "      <td>Adventure|Animation|Children|Comedy|Fantasy</td>\n",
       "      <td>[tensor(2.7775), tensor(-0.9256), tensor(0.829...</td>\n",
       "      <td>[tensor(0.3366), tensor(-0.1122), tensor(0.100...</td>\n",
       "    </tr>\n",
       "    <tr>\n",
       "      <th>1</th>\n",
       "      <td>2</td>\n",
       "      <td>Jumanji (1995)</td>\n",
       "      <td>Adventure|Children|Fantasy</td>\n",
       "      <td>[tensor(2.1974), tensor(-0.2702), tensor(0.746...</td>\n",
       "      <td>[tensor(0.2667), tensor(-0.0328), tensor(0.090...</td>\n",
       "    </tr>\n",
       "    <tr>\n",
       "      <th>2</th>\n",
       "      <td>3</td>\n",
       "      <td>Grumpier Old Men (1995)</td>\n",
       "      <td>Comedy|Romance</td>\n",
       "      <td>[tensor(-0.8682), tensor(-0.9068), tensor(-0.5...</td>\n",
       "      <td>[tensor(-0.1061), tensor(-0.1109), tensor(-0.0...</td>\n",
       "    </tr>\n",
       "    <tr>\n",
       "      <th>3</th>\n",
       "      <td>4</td>\n",
       "      <td>Waiting to Exhale (1995)</td>\n",
       "      <td>Comedy|Drama|Romance</td>\n",
       "      <td>[tensor(0.6428), tensor(0.7264), tensor(-0.700...</td>\n",
       "      <td>[tensor(0.0783), tensor(0.0885), tensor(-0.085...</td>\n",
       "    </tr>\n",
       "    <tr>\n",
       "      <th>4</th>\n",
       "      <td>5</td>\n",
       "      <td>Father of the Bride Part II (1995)</td>\n",
       "      <td>Comedy</td>\n",
       "      <td>[tensor(-0.7625), tensor(-0.5361), tensor(-0.3...</td>\n",
       "      <td>[tensor(-0.0918), tensor(-0.0645), tensor(-0.0...</td>\n",
       "    </tr>\n",
       "  </tbody>\n",
       "</table>\n",
       "</div>"
      ],
      "text/plain": [
       "   movieId                               title   \n",
       "0        1                    Toy Story (1995)  \\\n",
       "1        2                      Jumanji (1995)   \n",
       "2        3             Grumpier Old Men (1995)   \n",
       "3        4            Waiting to Exhale (1995)   \n",
       "4        5  Father of the Bride Part II (1995)   \n",
       "\n",
       "                                        genres   \n",
       "0  Adventure|Animation|Children|Comedy|Fantasy  \\\n",
       "1                   Adventure|Children|Fantasy   \n",
       "2                               Comedy|Romance   \n",
       "3                         Comedy|Drama|Romance   \n",
       "4                                       Comedy   \n",
       "\n",
       "                                           embedding   \n",
       "0  [tensor(2.7775), tensor(-0.9256), tensor(0.829...  \\\n",
       "1  [tensor(2.1974), tensor(-0.2702), tensor(0.746...   \n",
       "2  [tensor(-0.8682), tensor(-0.9068), tensor(-0.5...   \n",
       "3  [tensor(0.6428), tensor(0.7264), tensor(-0.700...   \n",
       "4  [tensor(-0.7625), tensor(-0.5361), tensor(-0.3...   \n",
       "\n",
       "                                      norm_embedding  \n",
       "0  [tensor(0.3366), tensor(-0.1122), tensor(0.100...  \n",
       "1  [tensor(0.2667), tensor(-0.0328), tensor(0.090...  \n",
       "2  [tensor(-0.1061), tensor(-0.1109), tensor(-0.0...  \n",
       "3  [tensor(0.0783), tensor(0.0885), tensor(-0.085...  \n",
       "4  [tensor(-0.0918), tensor(-0.0645), tensor(-0.0...  "
      ]
     },
     "execution_count": 41,
     "metadata": {},
     "output_type": "execute_result"
    }
   ],
   "source": [
    "movie_df.head()"
   ]
  },
  {
   "cell_type": "code",
   "execution_count": 43,
   "id": "2db74773",
   "metadata": {},
   "outputs": [],
   "source": [
    "def get_similar(movie_df, movie_id=None, k=20):\n",
    "    if movie_id is None:\n",
    "        movie_id = np.random.randint(1, movie_df.shape[0])        \n",
    "    query = movie_df.iloc[movie_id]\n",
    "    query_emb = query['norm_embedding']\n",
    "    sim_scores = (emb @ query_emb.view(1,-1).T)\n",
    "    sorted_idx = torch.argsort(sim_scores.view(-1),descending=True)\n",
    "    top_k_idx = sorted_idx[1:k+1]\n",
    "    res = movie_df.iloc[top_k_idx]\n",
    "    titles = res['title'].values\n",
    "    genres = res['genres'].values\n",
    "    scores = sim_scores[top_k_idx]\n",
    "    return {\n",
    "        \"query\": query[['movieId', 'title', 'genres']].to_dict(),\n",
    "        'result': [[t,g,s] for t,g,s in zip(titles, genres, scores)]\n",
    "    }"
   ]
  },
  {
   "cell_type": "code",
   "execution_count": 78,
   "id": "93083abb",
   "metadata": {},
   "outputs": [
    {
     "data": {
      "text/plain": [
       "{'query': {'movieId': 8477,\n",
       "  'title': 'Jetée, La (1962)',\n",
       "  'genres': 'Romance|Sci-Fi'},\n",
       " 'result': [['Gappa: The Triphibian Monsters (AKA Monster from a Prehistoric Planet) (Daikyojû Gappa) (1967)',\n",
       "   'Sci-Fi',\n",
       "   tensor([0.7777])],\n",
       "  ['And Now... Ladies and Gentlemen... (2002)',\n",
       "   'Romance|Thriller',\n",
       "   tensor([0.7185])],\n",
       "  ['Death Trance (2005)', 'Action|Sci-Fi|Thriller', tensor([0.6945])],\n",
       "  ['The Outlaws Is Coming (1965)', 'Comedy|Western', tensor([0.6753])],\n",
       "  ['Nastazja (1994)', 'Drama', tensor([0.6747])],\n",
       "  ['Original Kings of Comedy, The (2000)',\n",
       "   'Comedy|Documentary',\n",
       "   tensor([0.6724])],\n",
       "  ['Adventures of Don Juan (1948)', 'Adventure|Romance', tensor([0.6546])],\n",
       "  ['One and Only, The (2002)', 'Comedy|Romance', tensor([0.6543])],\n",
       "  ['Halvdan Viking (2018)', 'Children', tensor([0.6533])],\n",
       "  ['100 Days (1991)', 'Horror|Romance|Thriller', tensor([0.6481])]]}"
      ]
     },
     "execution_count": 78,
     "metadata": {},
     "output_type": "execute_result"
    }
   ],
   "source": [
    "get_similar(movie_df, k=10)"
   ]
  },
  {
   "cell_type": "code",
   "execution_count": 61,
   "id": "82aee4a5",
   "metadata": {},
   "outputs": [
    {
     "data": {
      "text/html": [
       "<div>\n",
       "<style scoped>\n",
       "    .dataframe tbody tr th:only-of-type {\n",
       "        vertical-align: middle;\n",
       "    }\n",
       "\n",
       "    .dataframe tbody tr th {\n",
       "        vertical-align: top;\n",
       "    }\n",
       "\n",
       "    .dataframe thead th {\n",
       "        text-align: right;\n",
       "    }\n",
       "</style>\n",
       "<table border=\"1\" class=\"dataframe\">\n",
       "  <thead>\n",
       "    <tr style=\"text-align: right;\">\n",
       "      <th></th>\n",
       "      <th>userId</th>\n",
       "      <th>movieId</th>\n",
       "      <th>rating</th>\n",
       "      <th>timestamp</th>\n",
       "      <th>percentile</th>\n",
       "    </tr>\n",
       "  </thead>\n",
       "  <tbody>\n",
       "    <tr>\n",
       "      <th>0</th>\n",
       "      <td>1</td>\n",
       "      <td>5952</td>\n",
       "      <td>4.0</td>\n",
       "      <td>1147868053</td>\n",
       "      <td>0.000000</td>\n",
       "    </tr>\n",
       "    <tr>\n",
       "      <th>1</th>\n",
       "      <td>1</td>\n",
       "      <td>2012</td>\n",
       "      <td>2.5</td>\n",
       "      <td>1147868068</td>\n",
       "      <td>1.449275</td>\n",
       "    </tr>\n",
       "    <tr>\n",
       "      <th>2</th>\n",
       "      <td>1</td>\n",
       "      <td>2011</td>\n",
       "      <td>2.5</td>\n",
       "      <td>1147868079</td>\n",
       "      <td>2.898551</td>\n",
       "    </tr>\n",
       "    <tr>\n",
       "      <th>3</th>\n",
       "      <td>1</td>\n",
       "      <td>1653</td>\n",
       "      <td>4.0</td>\n",
       "      <td>1147868097</td>\n",
       "      <td>4.347826</td>\n",
       "    </tr>\n",
       "    <tr>\n",
       "      <th>4</th>\n",
       "      <td>1</td>\n",
       "      <td>1250</td>\n",
       "      <td>4.0</td>\n",
       "      <td>1147868414</td>\n",
       "      <td>5.797101</td>\n",
       "    </tr>\n",
       "  </tbody>\n",
       "</table>\n",
       "</div>"
      ],
      "text/plain": [
       "   userId  movieId  rating   timestamp  percentile\n",
       "0       1     5952     4.0  1147868053    0.000000\n",
       "1       1     2012     2.5  1147868068    1.449275\n",
       "2       1     2011     2.5  1147868079    2.898551\n",
       "3       1     1653     4.0  1147868097    4.347826\n",
       "4       1     1250     4.0  1147868414    5.797101"
      ]
     },
     "execution_count": 61,
     "metadata": {},
     "output_type": "execute_result"
    }
   ],
   "source": [
    "rating_df.head()"
   ]
  },
  {
   "cell_type": "code",
   "execution_count": 62,
   "id": "82761ade",
   "metadata": {},
   "outputs": [
    {
     "data": {
      "text/html": [
       "<div>\n",
       "<style scoped>\n",
       "    .dataframe tbody tr th:only-of-type {\n",
       "        vertical-align: middle;\n",
       "    }\n",
       "\n",
       "    .dataframe tbody tr th {\n",
       "        vertical-align: top;\n",
       "    }\n",
       "\n",
       "    .dataframe thead th {\n",
       "        text-align: right;\n",
       "    }\n",
       "</style>\n",
       "<table border=\"1\" class=\"dataframe\">\n",
       "  <thead>\n",
       "    <tr style=\"text-align: right;\">\n",
       "      <th></th>\n",
       "      <th>userId</th>\n",
       "      <th>movieId</th>\n",
       "      <th>rating</th>\n",
       "      <th>timestamp</th>\n",
       "    </tr>\n",
       "  </thead>\n",
       "  <tbody>\n",
       "    <tr>\n",
       "      <th>56</th>\n",
       "      <td>1</td>\n",
       "      <td>5912</td>\n",
       "      <td>3.0</td>\n",
       "      <td>1147878698</td>\n",
       "    </tr>\n",
       "    <tr>\n",
       "      <th>57</th>\n",
       "      <td>1</td>\n",
       "      <td>5767</td>\n",
       "      <td>5.0</td>\n",
       "      <td>1147878729</td>\n",
       "    </tr>\n",
       "    <tr>\n",
       "      <th>58</th>\n",
       "      <td>1</td>\n",
       "      <td>665</td>\n",
       "      <td>5.0</td>\n",
       "      <td>1147878820</td>\n",
       "    </tr>\n",
       "    <tr>\n",
       "      <th>59</th>\n",
       "      <td>1</td>\n",
       "      <td>2573</td>\n",
       "      <td>4.0</td>\n",
       "      <td>1147878923</td>\n",
       "    </tr>\n",
       "    <tr>\n",
       "      <th>60</th>\n",
       "      <td>1</td>\n",
       "      <td>27266</td>\n",
       "      <td>4.5</td>\n",
       "      <td>1147879365</td>\n",
       "    </tr>\n",
       "  </tbody>\n",
       "</table>\n",
       "</div>"
      ],
      "text/plain": [
       "    userId  movieId  rating   timestamp\n",
       "56       1     5912     3.0  1147878698\n",
       "57       1     5767     5.0  1147878729\n",
       "58       1      665     5.0  1147878820\n",
       "59       1     2573     4.0  1147878923\n",
       "60       1    27266     4.5  1147879365"
      ]
     },
     "execution_count": 62,
     "metadata": {},
     "output_type": "execute_result"
    }
   ],
   "source": [
    "test_data.head()"
   ]
  },
  {
   "cell_type": "code",
   "execution_count": 66,
   "id": "fd87836e",
   "metadata": {},
   "outputs": [
    {
     "data": {
      "text/plain": [
       "{'rating': tensor([[3.6266]], grad_fn=<AddmmBackward0>)}"
      ]
     },
     "execution_count": 66,
     "metadata": {},
     "output_type": "execute_result"
    }
   ],
   "source": [
    "model({\"userId\":torch.tensor([1]), 'movieId':torch.tensor([27266])})"
   ]
  },
  {
   "cell_type": "code",
   "execution_count": null,
   "id": "0be3c13b",
   "metadata": {},
   "outputs": [],
   "source": []
  }
 ],
 "metadata": {
  "kernelspec": {
   "display_name": "dev",
   "language": "python",
   "name": "python3"
  },
  "language_info": {
   "codemirror_mode": {
    "name": "ipython",
    "version": 3
   },
   "file_extension": ".py",
   "mimetype": "text/x-python",
   "name": "python",
   "nbconvert_exporter": "python",
   "pygments_lexer": "ipython3",
   "version": "3.9.16"
  }
 },
 "nbformat": 4,
 "nbformat_minor": 5
}
